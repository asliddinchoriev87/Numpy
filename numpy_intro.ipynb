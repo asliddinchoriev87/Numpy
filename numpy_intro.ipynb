{
  "nbformat": 4,
  "nbformat_minor": 0,
  "metadata": {
    "colab": {
      "provenance": []
    },
    "kernelspec": {
      "name": "python3",
      "display_name": "Python 3"
    },
    "language_info": {
      "name": "python"
    }
  },
  "cells": [
    {
      "cell_type": "code",
      "execution_count": 5,
      "metadata": {
        "id": "Hyh4XAg3RVh9"
      },
      "outputs": [],
      "source": [
        "import numpy as np\n"
      ]
    },
    {
      "cell_type": "code",
      "source": [
        "my_list = list(range(100000)) #normal\n",
        "my_array = np.array(range(100000))"
      ],
      "metadata": {
        "id": "diRFOMV8RrRu"
      },
      "execution_count": 6,
      "outputs": []
    },
    {
      "cell_type": "code",
      "source": [
        "%time for _ in range(10):[x*2 for x in my_list] #normal"
      ],
      "metadata": {
        "colab": {
          "base_uri": "https://localhost:8080/"
        },
        "id": "F05QUAd-R9-N",
        "outputId": "3e7bf544-d40c-46bd-ed49-4dc2f072083d"
      },
      "execution_count": 7,
      "outputs": [
        {
          "output_type": "stream",
          "name": "stdout",
          "text": [
            "CPU times: user 84.8 ms, sys: 7.9 ms, total: 92.7 ms\n",
            "Wall time: 101 ms\n"
          ]
        }
      ]
    },
    {
      "cell_type": "code",
      "source": [
        "%time for _ in range(10):my_array*2 #vektorlashgan"
      ],
      "metadata": {
        "colab": {
          "base_uri": "https://localhost:8080/"
        },
        "id": "8KqWddEWScZv",
        "outputId": "9bd51615-ad0f-4893-830f-74d37d7a40ea"
      },
      "execution_count": 8,
      "outputs": [
        {
          "output_type": "stream",
          "name": "stdout",
          "text": [
            "CPU times: user 2.3 ms, sys: 0 ns, total: 2.3 ms\n",
            "Wall time: 4.89 ms\n"
          ]
        }
      ]
    },
    {
      "cell_type": "code",
      "source": [
        "74.9/2.28"
      ],
      "metadata": {
        "colab": {
          "base_uri": "https://localhost:8080/"
        },
        "id": "CxxOe6gQSlVU",
        "outputId": "52e4e2d2-7492-4d6f-f368-ee139800e60f"
      },
      "execution_count": 9,
      "outputs": [
        {
          "output_type": "execute_result",
          "data": {
            "text/plain": [
              "32.85087719298246"
            ]
          },
          "metadata": {},
          "execution_count": 9
        }
      ]
    },
    {
      "cell_type": "code",
      "source": [
        "data1 = [[1,2,3,4,5],[6,7,8,9,10],[77,88,99,11,66]]\n",
        "arr1 = np.array(data1)  # convert list to array\n",
        "print(arr1)"
      ],
      "metadata": {
        "colab": {
          "base_uri": "https://localhost:8080/"
        },
        "id": "yHZEI0pYTQNs",
        "outputId": "05338eaf-d7b8-41de-969b-ed70875b0b1b"
      },
      "execution_count": 10,
      "outputs": [
        {
          "output_type": "stream",
          "name": "stdout",
          "text": [
            "[[ 1  2  3  4  5]\n",
            " [ 6  7  8  9 10]\n",
            " [77 88 99 11 66]]\n"
          ]
        }
      ]
    },
    {
      "cell_type": "code",
      "source": [
        "arr1.ndim #dimension"
      ],
      "metadata": {
        "colab": {
          "base_uri": "https://localhost:8080/"
        },
        "id": "1JyOptUjUkhl",
        "outputId": "9a074c9d-f27f-4b89-bfc6-d757a691d23d"
      },
      "execution_count": 11,
      "outputs": [
        {
          "output_type": "execute_result",
          "data": {
            "text/plain": [
              "2"
            ]
          },
          "metadata": {},
          "execution_count": 11
        }
      ]
    },
    {
      "cell_type": "code",
      "source": [
        "arr1.shape"
      ],
      "metadata": {
        "colab": {
          "base_uri": "https://localhost:8080/"
        },
        "id": "hchizf4xUscG",
        "outputId": "9e22aa4d-101b-4c39-af55-e0a64751acde"
      },
      "execution_count": 12,
      "outputs": [
        {
          "output_type": "execute_result",
          "data": {
            "text/plain": [
              "(3, 5)"
            ]
          },
          "metadata": {},
          "execution_count": 12
        }
      ]
    },
    {
      "cell_type": "code",
      "source": [
        "arr1.size"
      ],
      "metadata": {
        "colab": {
          "base_uri": "https://localhost:8080/"
        },
        "id": "cQ06A-azVxJq",
        "outputId": "cc42551b-7747-4b8f-deeb-ab139e238aef"
      },
      "execution_count": 13,
      "outputs": [
        {
          "output_type": "execute_result",
          "data": {
            "text/plain": [
              "15"
            ]
          },
          "metadata": {},
          "execution_count": 13
        }
      ]
    },
    {
      "cell_type": "code",
      "source": [
        "arr2 = np.ones((3,31))\n",
        "arr2"
      ],
      "metadata": {
        "colab": {
          "base_uri": "https://localhost:8080/"
        },
        "id": "RUYnKSRIW1Da",
        "outputId": "6871c23e-a526-41df-82c3-487c7663561a"
      },
      "execution_count": 14,
      "outputs": [
        {
          "output_type": "execute_result",
          "data": {
            "text/plain": [
              "array([[1., 1., 1., 1., 1., 1., 1., 1., 1., 1., 1., 1., 1., 1., 1., 1.,\n",
              "        1., 1., 1., 1., 1., 1., 1., 1., 1., 1., 1., 1., 1., 1., 1.],\n",
              "       [1., 1., 1., 1., 1., 1., 1., 1., 1., 1., 1., 1., 1., 1., 1., 1.,\n",
              "        1., 1., 1., 1., 1., 1., 1., 1., 1., 1., 1., 1., 1., 1., 1.],\n",
              "       [1., 1., 1., 1., 1., 1., 1., 1., 1., 1., 1., 1., 1., 1., 1., 1.,\n",
              "        1., 1., 1., 1., 1., 1., 1., 1., 1., 1., 1., 1., 1., 1., 1.]])"
            ]
          },
          "metadata": {},
          "execution_count": 14
        }
      ]
    },
    {
      "cell_type": "code",
      "source": [
        "arr3 = np.zeros((3,4))\n",
        "arr3"
      ],
      "metadata": {
        "colab": {
          "base_uri": "https://localhost:8080/"
        },
        "id": "i24jIfBSW8dJ",
        "outputId": "9e4085eb-5c5c-4ca5-bcfc-f136bcec0234"
      },
      "execution_count": 15,
      "outputs": [
        {
          "output_type": "execute_result",
          "data": {
            "text/plain": [
              "array([[0., 0., 0., 0.],\n",
              "       [0., 0., 0., 0.],\n",
              "       [0., 0., 0., 0.]])"
            ]
          },
          "metadata": {},
          "execution_count": 15
        }
      ]
    },
    {
      "cell_type": "code",
      "source": [
        "arr4 = np.eye(3)\n",
        "arr4"
      ],
      "metadata": {
        "colab": {
          "base_uri": "https://localhost:8080/"
        },
        "id": "kCSEs7UpXGyq",
        "outputId": "e8890dd0-0abb-4ad7-b419-82054e2aa532"
      },
      "execution_count": 16,
      "outputs": [
        {
          "output_type": "execute_result",
          "data": {
            "text/plain": [
              "array([[1., 0., 0.],\n",
              "       [0., 1., 0.],\n",
              "       [0., 0., 1.]])"
            ]
          },
          "metadata": {},
          "execution_count": 16
        }
      ]
    },
    {
      "cell_type": "code",
      "source": [
        "arr4 = np.diag([1,2,3])\n",
        "arr4"
      ],
      "metadata": {
        "colab": {
          "base_uri": "https://localhost:8080/"
        },
        "id": "QrRgFyJIXPA6",
        "outputId": "8e7ac097-b2d2-4dd5-9118-fce028f9b66d"
      },
      "execution_count": 17,
      "outputs": [
        {
          "output_type": "execute_result",
          "data": {
            "text/plain": [
              "array([[1, 0, 0],\n",
              "       [0, 2, 0],\n",
              "       [0, 0, 3]])"
            ]
          },
          "metadata": {},
          "execution_count": 17
        }
      ]
    },
    {
      "cell_type": "code",
      "source": [
        "arr5 = np.arange(10,23,3)\n",
        "arr5"
      ],
      "metadata": {
        "colab": {
          "base_uri": "https://localhost:8080/"
        },
        "id": "kT1wy7u9XUia",
        "outputId": "554f70f2-fb20-4d9a-d90d-220f32c07de1"
      },
      "execution_count": 18,
      "outputs": [
        {
          "output_type": "execute_result",
          "data": {
            "text/plain": [
              "array([10, 13, 16, 19, 22])"
            ]
          },
          "metadata": {},
          "execution_count": 18
        }
      ]
    },
    {
      "cell_type": "code",
      "source": [
        "arr6 = np.arange(0,np.random.randint(100,1000),np.random.randint(3,10))\n",
        "\n",
        "\n",
        "print(arr6)"
      ],
      "metadata": {
        "colab": {
          "base_uri": "https://localhost:8080/"
        },
        "id": "wVFjJlx_ZHNv",
        "outputId": "7a778fce-5a32-43d0-ff1a-d6a4db1221f7"
      },
      "execution_count": 19,
      "outputs": [
        {
          "output_type": "stream",
          "name": "stdout",
          "text": [
            "[  0   5  10  15  20  25  30  35  40  45  50  55  60  65  70  75  80  85\n",
            "  90  95 100 105 110 115 120 125 130 135 140 145 150 155 160 165 170 175\n",
            " 180 185 190 195 200 205 210 215 220 225 230 235 240 245 250 255 260 265\n",
            " 270 275 280 285 290 295 300 305 310 315 320 325 330 335 340 345 350 355\n",
            " 360 365 370 375 380 385 390 395 400 405 410 415 420 425 430 435 440 445\n",
            " 450 455 460 465 470 475 480 485 490 495 500 505 510 515 520 525 530 535\n",
            " 540 545 550 555 560 565 570 575 580 585 590 595 600 605 610 615 620 625\n",
            " 630 635 640 645 650 655 660 665 670 675 680 685 690 695 700 705 710 715\n",
            " 720 725 730 735 740 745 750 755 760 765 770 775 780 785 790 795 800 805\n",
            " 810 815 820 825 830 835 840 845 850 855 860 865 870 875 880 885 890 895\n",
            " 900]\n"
          ]
        }
      ]
    },
    {
      "cell_type": "code",
      "source": [
        "def two_dim(r,c):\n",
        "  arr7 = np.random.randint(100,1000,(r,c))\n",
        "  return arr7"
      ],
      "metadata": {
        "id": "Rv6NwW8-aALH"
      },
      "execution_count": 20,
      "outputs": []
    },
    {
      "cell_type": "code",
      "source": [
        "two_dim(8,9)"
      ],
      "metadata": {
        "colab": {
          "base_uri": "https://localhost:8080/"
        },
        "id": "UUZz43iMbhMQ",
        "outputId": "6eb1629e-f2f3-439d-ce4b-a1ba354b665b"
      },
      "execution_count": 21,
      "outputs": [
        {
          "output_type": "execute_result",
          "data": {
            "text/plain": [
              "array([[409, 813, 352, 288, 491, 507, 207, 179, 979],\n",
              "       [649, 653, 403, 594, 921, 431, 744, 885, 471],\n",
              "       [428, 971, 420, 636, 668, 636, 513, 749, 303],\n",
              "       [190, 381, 570, 924, 186, 633, 684, 646, 537],\n",
              "       [194, 337, 544, 983, 492, 251, 699, 712, 548],\n",
              "       [889, 261, 755, 627, 863, 471, 449, 164, 698],\n",
              "       [458, 148, 496, 374, 922, 792, 289, 497, 229],\n",
              "       [446, 199, 346, 836, 794, 742, 822, 352, 120]])"
            ]
          },
          "metadata": {},
          "execution_count": 21
        }
      ]
    },
    {
      "cell_type": "code",
      "source": [
        "arr8 = np.array([1,4,6])\n",
        "print(arr8)\n",
        "print(arr8.dtype)"
      ],
      "metadata": {
        "colab": {
          "base_uri": "https://localhost:8080/"
        },
        "id": "whgn40J82b_W",
        "outputId": "73012679-0f30-40ff-f670-2ba0b1cd69bb"
      },
      "execution_count": 22,
      "outputs": [
        {
          "output_type": "stream",
          "name": "stdout",
          "text": [
            "[1 4 6]\n",
            "int64\n"
          ]
        }
      ]
    },
    {
      "cell_type": "code",
      "source": [
        "arr9 = np.array([1,4,6],dtype=np.float64)\n",
        "print(arr9)\n",
        "print(arr9.dtype)"
      ],
      "metadata": {
        "colab": {
          "base_uri": "https://localhost:8080/"
        },
        "id": "tZwhSA4s2jUM",
        "outputId": "dc0213ff-4155-4aa3-c76a-2f2ac86e9f1a"
      },
      "execution_count": 23,
      "outputs": [
        {
          "output_type": "stream",
          "name": "stdout",
          "text": [
            "[1. 4. 6.]\n",
            "float64\n"
          ]
        }
      ]
    },
    {
      "cell_type": "code",
      "source": [
        "arr10 = np.arange(5,50,2)\n",
        "print(arr10[10])\n",
        "arr10"
      ],
      "metadata": {
        "colab": {
          "base_uri": "https://localhost:8080/"
        },
        "id": "s0jLMKAy21Ee",
        "outputId": "dea46d29-ef88-4a56-e2b2-02234b63fa97"
      },
      "execution_count": 24,
      "outputs": [
        {
          "output_type": "stream",
          "name": "stdout",
          "text": [
            "25\n"
          ]
        },
        {
          "output_type": "execute_result",
          "data": {
            "text/plain": [
              "array([ 5,  7,  9, 11, 13, 15, 17, 19, 21, 23, 25, 27, 29, 31, 33, 35, 37,\n",
              "       39, 41, 43, 45, 47, 49])"
            ]
          },
          "metadata": {},
          "execution_count": 24
        }
      ]
    },
    {
      "cell_type": "code",
      "source": [
        "print(arr10[2:5])"
      ],
      "metadata": {
        "colab": {
          "base_uri": "https://localhost:8080/"
        },
        "id": "4W1fr_H13RAS",
        "outputId": "b1cc0301-c920-47ae-f89c-c92935aa8720"
      },
      "execution_count": 25,
      "outputs": [
        {
          "output_type": "stream",
          "name": "stdout",
          "text": [
            "[ 9 11 13]\n"
          ]
        }
      ]
    },
    {
      "cell_type": "code",
      "source": [
        "sliced_arr = arr10[5:7].copy()\n",
        "sliced_arr[:] = 0\n",
        "print(arr10)\n",
        "print(sliced_arr)"
      ],
      "metadata": {
        "colab": {
          "base_uri": "https://localhost:8080/"
        },
        "id": "JuVHoSIr3jai",
        "outputId": "78736b47-33bd-4454-c446-655cbc31c61d"
      },
      "execution_count": 26,
      "outputs": [
        {
          "output_type": "stream",
          "name": "stdout",
          "text": [
            "[ 5  7  9 11 13 15 17 19 21 23 25 27 29 31 33 35 37 39 41 43 45 47 49]\n",
            "[0 0]\n"
          ]
        }
      ]
    },
    {
      "cell_type": "code",
      "source": [
        "names = np.array([\"ali\", \"vali\",\"hasan\", \"qodir\", \"hasan\"])\n",
        "print(names)"
      ],
      "metadata": {
        "colab": {
          "base_uri": "https://localhost:8080/"
        },
        "id": "j2FMbSECpyAF",
        "outputId": "01da5fd8-222d-4e96-de57-cdc2218409aa"
      },
      "execution_count": 27,
      "outputs": [
        {
          "output_type": "stream",
          "name": "stdout",
          "text": [
            "['ali' 'vali' 'hasan' 'qodir' 'hasan']\n"
          ]
        }
      ]
    },
    {
      "cell_type": "code",
      "source": [
        "data = np.random.randn(5,4)\n",
        "data"
      ],
      "metadata": {
        "colab": {
          "base_uri": "https://localhost:8080/"
        },
        "outputId": "d7a63fee-a93c-4d52-abbe-3b11423c031b",
        "id": "knJRjd1cr_3e"
      },
      "execution_count": 28,
      "outputs": [
        {
          "output_type": "execute_result",
          "data": {
            "text/plain": [
              "array([[ 0.75194672, -1.49441955,  0.02704693,  1.4537866 ],\n",
              "       [ 1.28578504,  0.80399061, -0.05551702,  0.58755202],\n",
              "       [ 0.92446946, -0.20842666,  1.21117979,  1.54716984],\n",
              "       [-1.76319556,  0.17821339,  0.12635976, -1.52316544],\n",
              "       [ 1.41667999, -0.10320041,  0.51732168,  0.04806457]])"
            ]
          },
          "metadata": {},
          "execution_count": 28
        }
      ]
    },
    {
      "cell_type": "code",
      "source": [
        "print(data[~(names == \"hasan\")])"
      ],
      "metadata": {
        "colab": {
          "base_uri": "https://localhost:8080/"
        },
        "id": "7k_mGBm_tfzB",
        "outputId": "ae3c6948-253c-4dd5-8654-0c84750366ce"
      },
      "execution_count": 29,
      "outputs": [
        {
          "output_type": "stream",
          "name": "stdout",
          "text": [
            "[[ 0.75194672 -1.49441955  0.02704693  1.4537866 ]\n",
            " [ 1.28578504  0.80399061 -0.05551702  0.58755202]\n",
            " [-1.76319556  0.17821339  0.12635976 -1.52316544]]\n"
          ]
        }
      ]
    },
    {
      "cell_type": "code",
      "source": [
        "res1 = data[names == \"hasan\"]\n",
        "res2 = data[names == \"vali\"]\n",
        "res = np.vstack([res1,res2]) # Use vstack to vertically stack arrays of different number of rows\n",
        "\n",
        "res"
      ],
      "metadata": {
        "colab": {
          "base_uri": "https://localhost:8080/"
        },
        "id": "X16Xi-UdsatX",
        "outputId": "cb88a6df-69b3-4db4-f6f6-8be1c8f0853d"
      },
      "execution_count": 30,
      "outputs": [
        {
          "output_type": "execute_result",
          "data": {
            "text/plain": [
              "array([[ 0.92446946, -0.20842666,  1.21117979,  1.54716984],\n",
              "       [ 1.41667999, -0.10320041,  0.51732168,  0.04806457],\n",
              "       [ 1.28578504,  0.80399061, -0.05551702,  0.58755202]])"
            ]
          },
          "metadata": {},
          "execution_count": 30
        }
      ]
    },
    {
      "cell_type": "code",
      "source": [
        "data= np.arange(0,9,1).reshape(3,3)\n",
        "data\n"
      ],
      "metadata": {
        "colab": {
          "base_uri": "https://localhost:8080/"
        },
        "id": "dpkHYLrDs51Y",
        "outputId": "3f9ae5cc-ff10-42ac-9f33-a5c65048f5e0"
      },
      "execution_count": 31,
      "outputs": [
        {
          "output_type": "execute_result",
          "data": {
            "text/plain": [
              "array([[0, 1, 2],\n",
              "       [3, 4, 5],\n",
              "       [6, 7, 8]])"
            ]
          },
          "metadata": {},
          "execution_count": 31
        }
      ]
    },
    {
      "cell_type": "code",
      "source": [
        "sliced_array_2 = data[2,0:2]\n",
        "sliced_array_2"
      ],
      "metadata": {
        "colab": {
          "base_uri": "https://localhost:8080/"
        },
        "id": "p5wGxuHhxnsg",
        "outputId": "96ef89f8-b457-4b01-f96b-2a59d99320cc"
      },
      "execution_count": 32,
      "outputs": [
        {
          "output_type": "execute_result",
          "data": {
            "text/plain": [
              "array([6, 7])"
            ]
          },
          "metadata": {},
          "execution_count": 32
        }
      ]
    },
    {
      "cell_type": "code",
      "source": [
        "data_3d = np.arange(0,27,1).reshape(3,3,3)\n",
        "data_3d"
      ],
      "metadata": {
        "colab": {
          "base_uri": "https://localhost:8080/"
        },
        "id": "azOHtPAqyddZ",
        "outputId": "e66585ac-9c74-4c81-ee00-846a4e857b39"
      },
      "execution_count": 33,
      "outputs": [
        {
          "output_type": "execute_result",
          "data": {
            "text/plain": [
              "array([[[ 0,  1,  2],\n",
              "        [ 3,  4,  5],\n",
              "        [ 6,  7,  8]],\n",
              "\n",
              "       [[ 9, 10, 11],\n",
              "        [12, 13, 14],\n",
              "        [15, 16, 17]],\n",
              "\n",
              "       [[18, 19, 20],\n",
              "        [21, 22, 23],\n",
              "        [24, 25, 26]]])"
            ]
          },
          "metadata": {},
          "execution_count": 33
        }
      ]
    },
    {
      "cell_type": "code",
      "source": [
        "sliced_array_3 = data_3d[1,1,0:]\n",
        "sliced_array_3"
      ],
      "metadata": {
        "colab": {
          "base_uri": "https://localhost:8080/"
        },
        "id": "-AihnNJOyoXj",
        "outputId": "74a9b6bb-a2a1-4f9c-f174-5cccc5a2dec6"
      },
      "execution_count": 34,
      "outputs": [
        {
          "output_type": "execute_result",
          "data": {
            "text/plain": [
              "array([12, 13, 14])"
            ]
          },
          "metadata": {},
          "execution_count": 34
        }
      ]
    },
    {
      "cell_type": "code",
      "source": [
        "sliced_array_3 = data_3d[2,0,1:]\n",
        "sliced_array_3"
      ],
      "metadata": {
        "colab": {
          "base_uri": "https://localhost:8080/"
        },
        "id": "JgiJqhjBy7iK",
        "outputId": "11017e6a-90c7-4417-f8fd-be3f4581b02d"
      },
      "execution_count": 35,
      "outputs": [
        {
          "output_type": "execute_result",
          "data": {
            "text/plain": [
              "array([19, 20])"
            ]
          },
          "metadata": {},
          "execution_count": 35
        }
      ]
    },
    {
      "cell_type": "markdown",
      "source": [
        "Transposing&&Swapping"
      ],
      "metadata": {
        "id": "YIVF04yWzPgg"
      }
    },
    {
      "cell_type": "code",
      "source": [
        "A = np.arange(0,12,1).reshape(3,4)\n",
        "A\n"
      ],
      "metadata": {
        "colab": {
          "base_uri": "https://localhost:8080/"
        },
        "id": "-VxMS5vCzXxS",
        "outputId": "61203bad-3bd9-48c1-f711-3fc200591788"
      },
      "execution_count": 36,
      "outputs": [
        {
          "output_type": "execute_result",
          "data": {
            "text/plain": [
              "array([[ 0,  1,  2,  3],\n",
              "       [ 4,  5,  6,  7],\n",
              "       [ 8,  9, 10, 11]])"
            ]
          },
          "metadata": {},
          "execution_count": 36
        }
      ]
    },
    {
      "cell_type": "code",
      "source": [
        "print(A.T)"
      ],
      "metadata": {
        "colab": {
          "base_uri": "https://localhost:8080/"
        },
        "id": "_A25M_lm09ln",
        "outputId": "64a27065-7d3f-43b7-8eba-04eb54d48dd3"
      },
      "execution_count": 37,
      "outputs": [
        {
          "output_type": "stream",
          "name": "stdout",
          "text": [
            "[[ 0  4  8]\n",
            " [ 1  5  9]\n",
            " [ 2  6 10]\n",
            " [ 3  7 11]]\n"
          ]
        }
      ]
    },
    {
      "cell_type": "code",
      "source": [
        "A.swapaxes(0,1)"
      ],
      "metadata": {
        "colab": {
          "base_uri": "https://localhost:8080/"
        },
        "id": "nREdGkNw1CcR",
        "outputId": "0d854d7c-a967-4c5c-99c9-579f238618c4"
      },
      "execution_count": 38,
      "outputs": [
        {
          "output_type": "execute_result",
          "data": {
            "text/plain": [
              "array([[ 0,  4,  8],\n",
              "       [ 1,  5,  9],\n",
              "       [ 2,  6, 10],\n",
              "       [ 3,  7, 11]])"
            ]
          },
          "metadata": {},
          "execution_count": 38
        }
      ]
    },
    {
      "cell_type": "code",
      "source": [
        "print(np.dot(A,A.T))"
      ],
      "metadata": {
        "colab": {
          "base_uri": "https://localhost:8080/"
        },
        "id": "uF-IX-1S1aHZ",
        "outputId": "d4516a0e-d08c-4aee-d951-3f4f0ff0a9a0"
      },
      "execution_count": 39,
      "outputs": [
        {
          "output_type": "stream",
          "name": "stdout",
          "text": [
            "[[ 14  38  62]\n",
            " [ 38 126 214]\n",
            " [ 62 214 366]]\n"
          ]
        }
      ]
    },
    {
      "cell_type": "markdown",
      "source": [
        "**Where** shart operatori"
      ],
      "metadata": {
        "id": "IX7opCh_f6Ua"
      }
    },
    {
      "cell_type": "code",
      "source": [
        "arr11 = np.random.randn(5,6)\n",
        "arr11"
      ],
      "metadata": {
        "colab": {
          "base_uri": "https://localhost:8080/"
        },
        "id": "uH43z-WPejH7",
        "outputId": "445b4541-d64f-4fb4-b24b-f49aaefb189e"
      },
      "execution_count": 40,
      "outputs": [
        {
          "output_type": "execute_result",
          "data": {
            "text/plain": [
              "array([[ 0.33689032,  2.52554206,  0.26593853,  0.17104301,  1.17628625,\n",
              "        -0.08318843],\n",
              "       [ 1.69399596,  0.84595175, -0.09475184,  0.9010236 ,  1.9209507 ,\n",
              "        -0.42432009],\n",
              "       [-0.20989849, -0.19644681,  0.56147165,  0.30160201,  0.80515239,\n",
              "         1.35462582],\n",
              "       [-0.9947074 , -1.07168397,  1.34836824, -0.53000492, -0.15603652,\n",
              "         0.61621805],\n",
              "       [-1.33040522,  0.11686638,  1.07820789, -0.40871483,  0.75884263,\n",
              "         0.52681031]])"
            ]
          },
          "metadata": {},
          "execution_count": 40
        }
      ]
    },
    {
      "cell_type": "code",
      "source": [
        "results = np.where(arr11>0,0,-1)\n",
        "results"
      ],
      "metadata": {
        "colab": {
          "base_uri": "https://localhost:8080/"
        },
        "id": "SNVq-rQqhEE_",
        "outputId": "5a5b3fe0-f01b-4010-9b45-f6d73d18ef69"
      },
      "execution_count": 41,
      "outputs": [
        {
          "output_type": "execute_result",
          "data": {
            "text/plain": [
              "array([[ 0,  0,  0,  0,  0, -1],\n",
              "       [ 0,  0, -1,  0,  0, -1],\n",
              "       [-1, -1,  0,  0,  0,  0],\n",
              "       [-1, -1,  0, -1, -1,  0],\n",
              "       [-1,  0,  0, -1,  0,  0]])"
            ]
          },
          "metadata": {},
          "execution_count": 41
        }
      ]
    },
    {
      "cell_type": "code",
      "source": [
        "%time results = np.where(arr11 > 0, 0, -1)"
      ],
      "metadata": {
        "colab": {
          "base_uri": "https://localhost:8080/"
        },
        "id": "LcEnoPrUgd9J",
        "outputId": "b0da82d1-35c3-4b8a-9dd0-2554da19e085"
      },
      "execution_count": 42,
      "outputs": [
        {
          "output_type": "stream",
          "name": "stdout",
          "text": [
            "CPU times: user 37 µs, sys: 4 µs, total: 41 µs\n",
            "Wall time: 44.6 µs\n"
          ]
        }
      ]
    },
    {
      "cell_type": "markdown",
      "source": [
        "**Unique, in1d, setdiff1d** methodlari"
      ],
      "metadata": {
        "id": "1AlwPE4en6CJ"
      }
    },
    {
      "cell_type": "code",
      "source": [
        "names = np.array([\"ali\", \"vali\",\"hasan\", \"qodir\", \"hasan\",\"hasan\", \"ali\"])\n",
        "unique_names = np.unique(names)\n",
        "unique_names"
      ],
      "metadata": {
        "colab": {
          "base_uri": "https://localhost:8080/"
        },
        "id": "ZAPeRNvVoBbj",
        "outputId": "98d53f6a-02ff-48d1-9245-83bd7c4ae2df"
      },
      "execution_count": 43,
      "outputs": [
        {
          "output_type": "execute_result",
          "data": {
            "text/plain": [
              "array(['ali', 'hasan', 'qodir', 'vali'], dtype='<U5')"
            ]
          },
          "metadata": {},
          "execution_count": 43
        }
      ]
    },
    {
      "cell_type": "code",
      "source": [
        "arr_big = np.arange(5,15,2)\n",
        "arr_sm = [5,6,7]\n",
        "arr_big"
      ],
      "metadata": {
        "colab": {
          "base_uri": "https://localhost:8080/"
        },
        "id": "Qq_6O2omoRBC",
        "outputId": "67afad85-799e-43e6-f990-ee597754789f"
      },
      "execution_count": 44,
      "outputs": [
        {
          "output_type": "execute_result",
          "data": {
            "text/plain": [
              "array([ 5,  7,  9, 11, 13])"
            ]
          },
          "metadata": {},
          "execution_count": 44
        }
      ]
    },
    {
      "cell_type": "code",
      "source": [
        "in_arr = np.in1d(arr_big,arr_sm)\n",
        "in_arr"
      ],
      "metadata": {
        "colab": {
          "base_uri": "https://localhost:8080/"
        },
        "id": "-PsOidCMorSD",
        "outputId": "eafbe0c9-4ef0-43b6-e149-6593f0e35126"
      },
      "execution_count": 45,
      "outputs": [
        {
          "output_type": "execute_result",
          "data": {
            "text/plain": [
              "array([ True,  True, False, False, False])"
            ]
          },
          "metadata": {},
          "execution_count": 45
        }
      ]
    },
    {
      "cell_type": "code",
      "source": [
        "names1= np.array([\"ali\", \"vali\",\"hasan\", \"qodir\", \"hasan\",\"hasan\", \"ali\"])\n",
        "names2 = np.array([\"ali\", \"muhammad\",\"zokir\"])\n",
        "set_diff = np.setdiff1d(names1,names2)\n",
        "set_diff"
      ],
      "metadata": {
        "colab": {
          "base_uri": "https://localhost:8080/"
        },
        "id": "ZSpbBXH2o7YL",
        "outputId": "84b6d733-7f9b-4312-95bd-c47ac8f0373e"
      },
      "execution_count": 46,
      "outputs": [
        {
          "output_type": "execute_result",
          "data": {
            "text/plain": [
              "array(['hasan', 'qodir', 'vali'], dtype='<U5')"
            ]
          },
          "metadata": {},
          "execution_count": 46
        }
      ]
    },
    {
      "cell_type": "markdown",
      "source": [
        "File"
      ],
      "metadata": {
        "id": "Mb_1r9HUteqE"
      }
    },
    {
      "cell_type": "code",
      "source": [
        "arr1= np.arange(10)\n",
        "arr2 = np.arange(10,20,1)"
      ],
      "metadata": {
        "id": "ufRGLeG6pO7r"
      },
      "execution_count": 47,
      "outputs": []
    },
    {
      "cell_type": "code",
      "source": [
        "saved_arr1 = np.save('data1.npy', arr1)\n",
        "saved_arr2 = np.save('data2', arr2)"
      ],
      "metadata": {
        "id": "7mx6e_swyXzd"
      },
      "execution_count": 48,
      "outputs": []
    },
    {
      "cell_type": "code",
      "source": [
        "saved_arr3 = np.savez('data3.npz', a = arr1, b = arr2)"
      ],
      "metadata": {
        "id": "wpLJe9ify1YW"
      },
      "execution_count": 49,
      "outputs": []
    },
    {
      "cell_type": "code",
      "source": [
        "arrays = np.load('data3.npz')\n",
        "arrays['b']"
      ],
      "metadata": {
        "colab": {
          "base_uri": "https://localhost:8080/"
        },
        "id": "mKsY-gOHzAGO",
        "outputId": "f7004a43-9b78-49a8-9096-2bd3c394544d"
      },
      "execution_count": 50,
      "outputs": [
        {
          "output_type": "execute_result",
          "data": {
            "text/plain": [
              "array([10, 11, 12, 13, 14, 15, 16, 17, 18, 19])"
            ]
          },
          "metadata": {},
          "execution_count": 50
        }
      ]
    },
    {
      "cell_type": "markdown",
      "source": [
        "**TASK GM**"
      ],
      "metadata": {
        "id": "apmeJgLJgV8y"
      }
    },
    {
      "cell_type": "code",
      "source": [
        "!wget -O GM_Cars.zip \"https://drive.google.com/uc?export=download&id=1i57swZxVA9Xh64eVvylnkIJmKT-4WTZy\" && unzip GM_Cars.zip && rm -r GM_Cars.zip"
      ],
      "metadata": {
        "colab": {
          "base_uri": "https://localhost:8080/"
        },
        "id": "B4G_gfBogYlK",
        "outputId": "cb8b911a-ef1f-4411-987a-71c7768f8fc9"
      },
      "execution_count": 51,
      "outputs": [
        {
          "output_type": "stream",
          "name": "stdout",
          "text": [
            "--2024-06-30 23:38:11--  https://drive.google.com/uc?export=download&id=1i57swZxVA9Xh64eVvylnkIJmKT-4WTZy\n",
            "Resolving drive.google.com (drive.google.com)... 64.233.187.113, 64.233.187.138, 64.233.187.101, ...\n",
            "Connecting to drive.google.com (drive.google.com)|64.233.187.113|:443... connected.\n",
            "HTTP request sent, awaiting response... 303 See Other\n",
            "Location: https://drive.usercontent.google.com/download?id=1i57swZxVA9Xh64eVvylnkIJmKT-4WTZy&export=download [following]\n",
            "--2024-06-30 23:38:12--  https://drive.usercontent.google.com/download?id=1i57swZxVA9Xh64eVvylnkIJmKT-4WTZy&export=download\n",
            "Resolving drive.usercontent.google.com (drive.usercontent.google.com)... 142.251.8.132, 2404:6800:4008:c15::84\n",
            "Connecting to drive.usercontent.google.com (drive.usercontent.google.com)|142.251.8.132|:443... connected.\n",
            "HTTP request sent, awaiting response... 200 OK\n",
            "Length: 793 [application/octet-stream]\n",
            "Saving to: ‘GM_Cars.zip’\n",
            "\n",
            "GM_Cars.zip         100%[===================>]     793  --.-KB/s    in 0s      \n",
            "\n",
            "2024-06-30 23:38:12 (36.2 MB/s) - ‘GM_Cars.zip’ saved [793/793]\n",
            "\n",
            "Archive:  GM_Cars.zip\n",
            "replace GM_Cars/gm_2020.npz? [y]es, [n]o, [A]ll, [N]one, [r]ename: ^C\n"
          ]
        }
      ]
    },
    {
      "cell_type": "code",
      "source": [
        "gm_cars_2020 = np.load('/content/GM_Cars/gm_2020.npz')\n",
        "gm_cars_2021 = np.load('/content/GM_Cars/gm_2021.npz')\n",
        "gm_cars_2020['models']\n"
      ],
      "metadata": {
        "colab": {
          "base_uri": "https://localhost:8080/"
        },
        "id": "oKnyGO0qgrce",
        "outputId": "fc5d4aa9-adfb-4041-918a-8ab33c5213e3"
      },
      "execution_count": 65,
      "outputs": [
        {
          "output_type": "execute_result",
          "data": {
            "text/plain": [
              "array(['Labo', 'Damas', 'Spark', 'Nexia', 'Cobalt', 'Gentra'], dtype='<U6')"
            ]
          },
          "metadata": {},
          "execution_count": 65
        }
      ]
    },
    {
      "cell_type": "code",
      "source": [
        "gm_cars_2020['qnts']"
      ],
      "metadata": {
        "colab": {
          "base_uri": "https://localhost:8080/"
        },
        "id": "Qzei0UyRhqo1",
        "outputId": "0462b1f1-9d9e-4b33-efd5-02263a26581c"
      },
      "execution_count": 64,
      "outputs": [
        {
          "output_type": "execute_result",
          "data": {
            "text/plain": [
              "array([ 4521, 30889, 16370, 41663, 44901, 30368], dtype=int32)"
            ]
          },
          "metadata": {},
          "execution_count": 64
        }
      ]
    },
    {
      "cell_type": "code",
      "source": [
        "gm_cars_2021['qnts']"
      ],
      "metadata": {
        "colab": {
          "base_uri": "https://localhost:8080/"
        },
        "id": "ff8xasAjk6l5",
        "outputId": "eae69cbc-9463-42b7-835f-ff6efd591493"
      },
      "execution_count": 73,
      "outputs": [
        {
          "output_type": "execute_result",
          "data": {
            "text/plain": [
              "array([ 7542, 33682,  6485, 14442, 36317, 26266], dtype=int32)"
            ]
          },
          "metadata": {},
          "execution_count": 73
        }
      ]
    },
    {
      "cell_type": "markdown",
      "source": [
        "**Total quantities**"
      ],
      "metadata": {
        "id": "-FayK9_Ei9Fb"
      }
    },
    {
      "cell_type": "code",
      "source": [
        "sum1 = np.sum(gm_cars_2020['qnts'])\n",
        "sum2 = np.sum(gm_cars_2021['qnts'])\n",
        "sum = sum1 + sum2\n",
        "sum"
      ],
      "metadata": {
        "colab": {
          "base_uri": "https://localhost:8080/"
        },
        "id": "NUHhgUpIi1YQ",
        "outputId": "7013c082-ccf1-41f6-bbd2-647990eaa689"
      },
      "execution_count": 67,
      "outputs": [
        {
          "output_type": "execute_result",
          "data": {
            "text/plain": [
              "293446"
            ]
          },
          "metadata": {},
          "execution_count": 67
        }
      ]
    },
    {
      "cell_type": "markdown",
      "source": [
        "Faqat Damas, Nexia, Cobalt va Gentra ma'lumotlarini ajratib olish"
      ],
      "metadata": {
        "id": "P8ySjsYOkU1p"
      }
    },
    {
      "cell_type": "code",
      "source": [
        "all_qnts = gm_cars_2020['qnts'] + gm_cars_2021['qnts']\n",
        "all_qnts"
      ],
      "metadata": {
        "colab": {
          "base_uri": "https://localhost:8080/"
        },
        "id": "Ygs3TWFejAOi",
        "outputId": "638d732b-50fe-499a-c54e-a5fde08c06bd"
      },
      "execution_count": 72,
      "outputs": [
        {
          "output_type": "execute_result",
          "data": {
            "text/plain": [
              "array([12063, 64571, 22855, 56105, 81218, 56634], dtype=int32)"
            ]
          },
          "metadata": {},
          "execution_count": 72
        }
      ]
    },
    {
      "cell_type": "code",
      "source": [
        "sum_all_these_cars_qnts= np.add(np.sum(gm_cars_2020['qnts']),np.sum(gm_cars_2021['qnts']))\n",
        "sum_all_these_four_cars_qnts= sum_all_these_cars_qnts- all_qnts[0]-all_qnts[2]\n",
        "sum_all_these_four_cars_qnts"
      ],
      "metadata": {
        "colab": {
          "base_uri": "https://localhost:8080/"
        },
        "id": "EqT-TGE3kwF4",
        "outputId": "60a99ea9-1aa8-41cb-b599-689cf366b8f6"
      },
      "execution_count": 75,
      "outputs": [
        {
          "output_type": "execute_result",
          "data": {
            "text/plain": [
              "258528"
            ]
          },
          "metadata": {},
          "execution_count": 75
        }
      ]
    },
    {
      "cell_type": "markdown",
      "source": [
        "Percenntage of damas in the 2 years average\n"
      ],
      "metadata": {
        "id": "peHV8ZB_nF82"
      }
    },
    {
      "cell_type": "code",
      "source": [
        "percentage_of_damas = np.sum(gm_cars_2020['qnts'][1]+gm_cars_2021['qnts'][1])/sum_all_these_cars_qnts * 100\n",
        "percentage_of_damas"
      ],
      "metadata": {
        "colab": {
          "base_uri": "https://localhost:8080/"
        },
        "id": "X29B1bh5mX2i",
        "outputId": "5eae1e39-7322-4f06-8be3-d4f3771fc538"
      },
      "execution_count": 81,
      "outputs": [
        {
          "output_type": "execute_result",
          "data": {
            "text/plain": [
              "22.00438922323017"
            ]
          },
          "metadata": {},
          "execution_count": 81
        }
      ]
    },
    {
      "cell_type": "markdown",
      "source": [
        "Percentage of damas in 2020"
      ],
      "metadata": {
        "id": "lyAx9WOhnPup"
      }
    },
    {
      "cell_type": "code",
      "source": [
        "percentage_of_damas_2020 = (gm_cars_2020['qnts'][1]/np.sum(gm_cars_2020['qnts'])) * 100\n",
        "percentage_of_damas_2020"
      ],
      "metadata": {
        "colab": {
          "base_uri": "https://localhost:8080/"
        },
        "id": "4AB4dLMenN3f",
        "outputId": "e70d0c10-df90-4590-c174-645e1f17864c"
      },
      "execution_count": 84,
      "outputs": [
        {
          "output_type": "execute_result",
          "data": {
            "text/plain": [
              "18.30871544407037"
            ]
          },
          "metadata": {},
          "execution_count": 84
        }
      ]
    },
    {
      "cell_type": "markdown",
      "source": [
        "Percenntage of damas in 2021"
      ],
      "metadata": {
        "id": "VqTQPPRpnnce"
      }
    },
    {
      "cell_type": "code",
      "source": [
        "percentage_of_damas_2021 = (gm_cars_2021['qnts'][1]/np.sum(gm_cars_2021['qnts'])) * 100\n",
        "percentage_of_damas_2021"
      ],
      "metadata": {
        "colab": {
          "base_uri": "https://localhost:8080/"
        },
        "id": "6UVhfyBDnoDu",
        "outputId": "797ce857-c5f6-42e1-9be9-43d559f24617"
      },
      "execution_count": 85,
      "outputs": [
        {
          "output_type": "execute_result",
          "data": {
            "text/plain": [
              "27.003062517036252"
            ]
          },
          "metadata": {},
          "execution_count": 85
        }
      ]
    },
    {
      "cell_type": "markdown",
      "source": [
        "Percentage of gentra in the two years"
      ],
      "metadata": {
        "id": "6AC3bDBQnznO"
      }
    },
    {
      "cell_type": "code",
      "source": [
        "percentage_of_gentra = np.sum(gm_cars_2020['qnts'][5]+gm_cars_2021['qnts'][5])/sum_all_these_cars_qnts * 100\n",
        "percentage_of_gentra"
      ],
      "metadata": {
        "colab": {
          "base_uri": "https://localhost:8080/"
        },
        "id": "PMHAJt4EmtjO",
        "outputId": "a9cbe13d-7a06-467a-9068-3f337202e17e"
      },
      "execution_count": 83,
      "outputs": [
        {
          "output_type": "execute_result",
          "data": {
            "text/plain": [
              "19.299632641099215"
            ]
          },
          "metadata": {},
          "execution_count": 83
        }
      ]
    },
    {
      "cell_type": "code",
      "source": [
        "a = np.array([[1,2],[2,3]])\n",
        "a.itemsize"
      ],
      "metadata": {
        "colab": {
          "base_uri": "https://localhost:8080/"
        },
        "id": "HjjN37ORpSTF",
        "outputId": "130ff220-6be1-4e54-912d-ce770f46e156"
      },
      "execution_count": 86,
      "outputs": [
        {
          "output_type": "execute_result",
          "data": {
            "text/plain": [
              "8"
            ]
          },
          "metadata": {},
          "execution_count": 86
        }
      ]
    },
    {
      "cell_type": "markdown",
      "source": [
        "**YAKUNIY VAZIFA** NumPy..."
      ],
      "metadata": {
        "id": "zEvxH8c6rU48"
      }
    },
    {
      "cell_type": "code",
      "source": [
        "#on_process"
      ],
      "metadata": {
        "id": "kBFsIUUGral7"
      },
      "execution_count": null,
      "outputs": []
    }
  ]
}