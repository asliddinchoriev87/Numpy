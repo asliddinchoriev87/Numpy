{
  "cells": [
    {
      "cell_type": "markdown",
      "id": "bf79c78b",
      "metadata": {
        "id": "bf79c78b"
      },
      "source": [
        "# NumPy kutubxonasiga doir bilimlaringizni mustaxkamlash uchun mashqlar\n",
        "\n",
        "Hurmatli o'quvchi, bilimingizni yanada mustaxkamlashingiz va chuqurroq ko'nikmalarga ega bo'lishingiz uchun sizga topshiriqlar tayyorladik. Sizga yengillik yaratish maqsadida topshiriqni aynan qanday funksiyalar yordamida amalga oshirishingiz mumkin ekanini\n",
        " `💡Ishora` ko'rinishida yozdik!"
      ]
    },
    {
      "cell_type": "markdown",
      "id": "017db353",
      "metadata": {
        "id": "017db353"
      },
      "source": [
        "#### 1. NumPy kutubxonasini `np` nomi ostida yuklang va numpy kutubxonasini chop eting.\n",
        "\n",
        "versiya va konfiguratsiyani tekshiring.\n"
      ]
    },
    {
      "cell_type": "markdown",
      "source": [
        "`💡Ishora` import … as` and `np.__version__, np.show_config"
      ],
      "metadata": {
        "id": "e28779fe"
      },
      "id": "e28779fe"
    },
    {
      "cell_type": "code",
      "source": [
        "import numpy as np"
      ],
      "metadata": {
        "id": "_pCbn1ieI3u9"
      },
      "id": "_pCbn1ieI3u9",
      "execution_count": 79,
      "outputs": []
    },
    {
      "cell_type": "markdown",
      "id": "46950f4f",
      "metadata": {
        "id": "46950f4f"
      },
      "source": [
        "#### 2. Raqamli qiymatlar ro'yxatini bir o'lchovli NumPy massiviga aylantiring!"
      ]
    },
    {
      "cell_type": "markdown",
      "source": [
        "`💡Ishora` numpy.array"
      ],
      "metadata": {
        "id": "9b0e875f"
      },
      "id": "9b0e875f"
    },
    {
      "cell_type": "code",
      "source": [
        "zeros = np.zeros(9)\n",
        "zeros"
      ],
      "metadata": {
        "id": "dgnzjeT3JCi4",
        "colab": {
          "base_uri": "https://localhost:8080/"
        },
        "outputId": "3191eadb-2a27-4af9-c93c-50be8a6a18de"
      },
      "id": "dgnzjeT3JCi4",
      "execution_count": 80,
      "outputs": [
        {
          "output_type": "execute_result",
          "data": {
            "text/plain": [
              "array([0., 0., 0., 0., 0., 0., 0., 0., 0.])"
            ]
          },
          "metadata": {},
          "execution_count": 80
        }
      ]
    },
    {
      "cell_type": "markdown",
      "id": "e3c20b3d",
      "metadata": {
        "id": "e3c20b3d"
      },
      "source": [
        "#### 3. Qiymatlari noldan iborat bo'lgan to'qqiz o'lchovli massiv yarating.\n",
        "\n"
      ]
    },
    {
      "cell_type": "markdown",
      "source": [
        "`💡Ishora` np.zeros"
      ],
      "metadata": {
        "id": "96d0b63e"
      },
      "id": "96d0b63e"
    },
    {
      "cell_type": "code",
      "source": [
        "zeros"
      ],
      "metadata": {
        "outputId": "fd2f7652-f328-4675-afd5-c93a9de51f06",
        "colab": {
          "base_uri": "https://localhost:8080/"
        },
        "id": "CjKh6poSCESa"
      },
      "execution_count": 81,
      "outputs": [
        {
          "output_type": "execute_result",
          "data": {
            "text/plain": [
              "array([0., 0., 0., 0., 0., 0., 0., 0., 0.])"
            ]
          },
          "metadata": {},
          "execution_count": 81
        }
      ],
      "id": "CjKh6poSCESa"
    },
    {
      "cell_type": "markdown",
      "id": "b15a879f",
      "metadata": {
        "id": "b15a879f"
      },
      "source": [
        "#### 4. Massiv yarating va uning xotira hajmini toping.\n",
        "\n"
      ]
    },
    {
      "cell_type": "markdown",
      "source": [],
      "metadata": {
        "id": "zH_9i7XDB_a5"
      },
      "id": "zH_9i7XDB_a5"
    },
    {
      "cell_type": "markdown",
      "source": [
        "`💡Ishora` size, itemsize"
      ],
      "metadata": {
        "id": "32f9025c"
      },
      "id": "32f9025c"
    },
    {
      "cell_type": "code",
      "source": [
        "zeros.size"
      ],
      "metadata": {
        "id": "MZxcJM_oJOTs",
        "colab": {
          "base_uri": "https://localhost:8080/"
        },
        "outputId": "f3f19e46-04d3-47de-840b-3bafdbd95314"
      },
      "id": "MZxcJM_oJOTs",
      "execution_count": 82,
      "outputs": [
        {
          "output_type": "execute_result",
          "data": {
            "text/plain": [
              "9"
            ]
          },
          "metadata": {},
          "execution_count": 82
        }
      ]
    },
    {
      "cell_type": "code",
      "source": [
        "zeros.itemsize"
      ],
      "metadata": {
        "id": "LV4wGMFSC3Xw",
        "outputId": "c64ce36f-9fc0-40ee-8c0e-8c04574ed2a1",
        "colab": {
          "base_uri": "https://localhost:8080/"
        }
      },
      "id": "LV4wGMFSC3Xw",
      "execution_count": 83,
      "outputs": [
        {
          "output_type": "execute_result",
          "data": {
            "text/plain": [
              "8"
            ]
          },
          "metadata": {},
          "execution_count": 83
        }
      ]
    },
    {
      "cell_type": "markdown",
      "id": "0a708990",
      "metadata": {
        "id": "0a708990"
      },
      "source": [
        "#### 5. NumPy kutubxonasidagi add funksiyasi hujjatlarini buyruq satridan qanday olishi mumkin?\n"
      ]
    },
    {
      "cell_type": "markdown",
      "source": [
        "`💡Ishora` np.info"
      ],
      "metadata": {
        "id": "d254eea5"
      },
      "id": "d254eea5"
    },
    {
      "cell_type": "code",
      "source": [
        "np.info(zeros)"
      ],
      "metadata": {
        "id": "m7nA_vYsJVUi",
        "outputId": "10a94e67-aa87-4774-aa13-75865b694d78",
        "colab": {
          "base_uri": "https://localhost:8080/"
        }
      },
      "id": "m7nA_vYsJVUi",
      "execution_count": 84,
      "outputs": [
        {
          "output_type": "stream",
          "name": "stdout",
          "text": [
            "class:  ndarray\n",
            "shape:  (9,)\n",
            "strides:  (8,)\n",
            "itemsize:  8\n",
            "aligned:  True\n",
            "contiguous:  True\n",
            "fortran:  True\n",
            "data pointer: 0x55f36e6c9580\n",
            "byteorder:  little\n",
            "byteswap:  False\n",
            "type: float64\n"
          ]
        }
      ]
    },
    {
      "cell_type": "markdown",
      "id": "0b16cd77",
      "metadata": {
        "id": "0b16cd77"
      },
      "source": [
        "#### 6. Shunday vekor yaratingki u o'n ikki o'lchamda va qiymatlari noldan iborat bo'lsin, lekin vektorning oltinchi qiymati 1 ga teng bo'lsin.\n",
        "\n"
      ]
    },
    {
      "cell_type": "markdown",
      "source": [
        "`💡Ishora` array[12]"
      ],
      "metadata": {
        "id": "05223560"
      },
      "id": "05223560"
    },
    {
      "cell_type": "code",
      "source": [
        "arr = np.zeros(12)\n",
        "arr[5] = 1\n",
        "arr"
      ],
      "metadata": {
        "id": "UJfYDNQoJc7M",
        "outputId": "edf715d9-74a9-4c73-aa7c-4b4e0e91b461",
        "colab": {
          "base_uri": "https://localhost:8080/"
        }
      },
      "id": "UJfYDNQoJc7M",
      "execution_count": 85,
      "outputs": [
        {
          "output_type": "execute_result",
          "data": {
            "text/plain": [
              "array([0., 0., 0., 0., 0., 1., 0., 0., 0., 0., 0., 0.])"
            ]
          },
          "metadata": {},
          "execution_count": 85
        }
      ]
    },
    {
      "cell_type": "markdown",
      "id": "782d4c77",
      "metadata": {
        "id": "782d4c77"
      },
      "source": [
        "#### 7. Qiymatlari 20 dan 59 gacha bo'lgan vektor yarating.\n",
        "\n"
      ]
    },
    {
      "cell_type": "markdown",
      "source": [
        "`💡Ishora` arange"
      ],
      "metadata": {
        "id": "7250d114"
      },
      "id": "7250d114"
    },
    {
      "cell_type": "code",
      "source": [
        "arr_20_to_59 = np.arange(20,60,1)\n",
        "arr_20_to_59"
      ],
      "metadata": {
        "id": "fSaWkGakJhwz",
        "outputId": "e5ff1df7-9dad-4208-9c6d-c23de57c4233",
        "colab": {
          "base_uri": "https://localhost:8080/"
        }
      },
      "id": "fSaWkGakJhwz",
      "execution_count": 86,
      "outputs": [
        {
          "output_type": "execute_result",
          "data": {
            "text/plain": [
              "array([20, 21, 22, 23, 24, 25, 26, 27, 28, 29, 30, 31, 32, 33, 34, 35, 36,\n",
              "       37, 38, 39, 40, 41, 42, 43, 44, 45, 46, 47, 48, 49, 50, 51, 52, 53,\n",
              "       54, 55, 56, 57, 58, 59])"
            ]
          },
          "metadata": {},
          "execution_count": 86
        }
      ]
    },
    {
      "cell_type": "markdown",
      "id": "48d48f01",
      "metadata": {
        "id": "48d48f01"
      },
      "source": [
        "#### 8. Vektor yarating va uni teskari o'zgartiring\n",
        "(birinchi element oxirgisi bo'lsin)\n",
        "\n"
      ]
    },
    {
      "cell_type": "markdown",
      "source": [
        "`💡Ishora` array[::-1]"
      ],
      "metadata": {
        "id": "fb702ae0"
      },
      "id": "fb702ae0"
    },
    {
      "cell_type": "code",
      "source": [
        "arr_reverse_before = np.arange(1,10,1)\n",
        "arr_reverse_after = arr_reverse_before[::-1]\n",
        "arr_reverse_after"
      ],
      "metadata": {
        "id": "GCP6vp_WJrON",
        "outputId": "c487d4e7-c6e5-4b76-bc37-c633bf91b271",
        "colab": {
          "base_uri": "https://localhost:8080/"
        }
      },
      "id": "GCP6vp_WJrON",
      "execution_count": 87,
      "outputs": [
        {
          "output_type": "execute_result",
          "data": {
            "text/plain": [
              "array([9, 8, 7, 6, 5, 4, 3, 2, 1])"
            ]
          },
          "metadata": {},
          "execution_count": 87
        }
      ]
    },
    {
      "cell_type": "markdown",
      "id": "4fa39382",
      "metadata": {
        "id": "4fa39382"
      },
      "source": [
        "#### 9. 12 dan 20 gacha bo'lgan qiymatlarga ega 3x3 matritsa yarating.\n"
      ]
    },
    {
      "cell_type": "markdown",
      "source": [
        "`💡Ishora` reshape"
      ],
      "metadata": {
        "id": "97e6be92"
      },
      "id": "97e6be92"
    },
    {
      "cell_type": "code",
      "source": [
        "arr_12_to_20 = np.arange(12,21,1).reshape((3,3))\n",
        "arr_12_to_20"
      ],
      "metadata": {
        "id": "Ve7gEGjuJxxw",
        "outputId": "dba81e9c-a794-4e00-a092-15bab543dcbe",
        "colab": {
          "base_uri": "https://localhost:8080/"
        }
      },
      "id": "Ve7gEGjuJxxw",
      "execution_count": 88,
      "outputs": [
        {
          "output_type": "execute_result",
          "data": {
            "text/plain": [
              "array([[12, 13, 14],\n",
              "       [15, 16, 17],\n",
              "       [18, 19, 20]])"
            ]
          },
          "metadata": {},
          "execution_count": 88
        }
      ]
    },
    {
      "cell_type": "markdown",
      "id": "da64551a",
      "metadata": {
        "id": "da64551a"
      },
      "source": [
        "#### 10. Quyidagi matritsadan foydalanib nolga teng bo'lmagan elementlarning indekslarini toping.\n",
        "[3, 7, 0, 0, 9, 0]\n",
        "\n",
        "\n",
        "\n"
      ]
    },
    {
      "cell_type": "markdown",
      "source": [
        "`💡Ishora` np.nonzero"
      ],
      "metadata": {
        "id": "322b2b68"
      },
      "id": "322b2b68"
    },
    {
      "cell_type": "code",
      "source": [
        "arr_index_zeros = np.array([3, 7, 0, 0, 9, 0])\n",
        "#np.where(arr_index_zeros !=0)\n",
        "np.nonzero(arr_index_zeros)"
      ],
      "metadata": {
        "id": "fNIuSyBaJ4OP",
        "outputId": "5c7a8a22-bc59-4684-9e63-5ade5394c08c",
        "colab": {
          "base_uri": "https://localhost:8080/"
        }
      },
      "id": "fNIuSyBaJ4OP",
      "execution_count": 89,
      "outputs": [
        {
          "output_type": "execute_result",
          "data": {
            "text/plain": [
              "(array([0, 1, 4]),)"
            ]
          },
          "metadata": {},
          "execution_count": 89
        }
      ]
    },
    {
      "cell_type": "markdown",
      "id": "f89d9c9e",
      "metadata": {
        "id": "f89d9c9e"
      },
      "source": [
        "#### 11. Tasodifiy qiymatlar bilan 2x2x2 o'lchovidagi massiv yarating.\n"
      ]
    },
    {
      "cell_type": "markdown",
      "source": [
        "`💡Ishora` np.random.random"
      ],
      "metadata": {
        "id": "5717e1c1"
      },
      "id": "5717e1c1"
    },
    {
      "cell_type": "code",
      "source": [
        "np.random.randn(8).reshape((2,2,2))"
      ],
      "metadata": {
        "id": "bHloeqHOKuiX",
        "outputId": "f824fa66-041c-4f00-fa4a-c8e5a533a1e9",
        "colab": {
          "base_uri": "https://localhost:8080/"
        }
      },
      "id": "bHloeqHOKuiX",
      "execution_count": 90,
      "outputs": [
        {
          "output_type": "execute_result",
          "data": {
            "text/plain": [
              "array([[[ 0.31265438,  1.80880461],\n",
              "        [-1.74301607, -1.23024044]],\n",
              "\n",
              "       [[ 0.71337865,  0.87462142],\n",
              "        [-0.90271242, -1.15481429]]])"
            ]
          },
          "metadata": {},
          "execution_count": 90
        }
      ]
    },
    {
      "cell_type": "markdown",
      "id": "13c5928c",
      "metadata": {
        "id": "13c5928c"
      },
      "source": [
        "#### 12. Tasodifiy sonlardan tashkil topgan 9X9 o'lchamidagi massiv yarating. So'ng uning eng katta va eng kichik qiymatlarini toping\n"
      ]
    },
    {
      "cell_type": "markdown",
      "source": [
        "`💡Ishora` min, max"
      ],
      "metadata": {
        "id": "0ede4d26"
      },
      "id": "0ede4d26"
    },
    {
      "cell_type": "code",
      "source": [
        "arr_max_min = np.random.randn(81).reshape((9,9))\n",
        "arr_max_min"
      ],
      "metadata": {
        "id": "OJiVa5K9LJyb",
        "outputId": "5c9bbe87-34b3-4513-96ee-ca6dabf1e06f",
        "colab": {
          "base_uri": "https://localhost:8080/"
        }
      },
      "id": "OJiVa5K9LJyb",
      "execution_count": 91,
      "outputs": [
        {
          "output_type": "execute_result",
          "data": {
            "text/plain": [
              "array([[-0.61448487,  0.6006509 , -0.36504411, -0.09154217, -0.43104   ,\n",
              "        -0.28868254, -0.74624105,  0.97437363, -0.05745449],\n",
              "       [-1.66575228, -0.09472896,  1.46369608,  2.27648332,  0.9462952 ,\n",
              "        -1.16775823,  0.3827649 ,  1.2379003 ,  2.15000142],\n",
              "       [ 0.25403167, -0.99396625,  0.08913643, -0.53226553,  0.24749658,\n",
              "         2.47346633,  0.01622193,  0.40150477, -0.71588784],\n",
              "       [-2.17839318,  0.12486404, -0.67471188, -1.65258667,  0.60141808,\n",
              "        -1.12048835,  1.52133455, -0.08794059, -0.62464074],\n",
              "       [-1.10927819, -0.41580616,  1.33453711, -0.73893157,  1.01087484,\n",
              "         0.1685925 , -0.33871971, -0.51511735, -2.32264646],\n",
              "       [ 1.01970381, -0.78352031,  1.12305193,  0.40251589, -0.35551966,\n",
              "         0.21063588, -1.08835823, -1.14623556, -0.50933563],\n",
              "       [-0.02125068, -0.49130239, -0.06597575,  1.05836094,  0.80646521,\n",
              "         0.24606296,  0.65359471,  0.97954513, -1.23269061],\n",
              "       [ 0.11354356,  0.89817818,  0.03155085, -2.25815429, -1.60400786,\n",
              "        -1.33872369, -0.19071718, -0.26721174, -1.07452914],\n",
              "       [ 0.19400667,  0.60376481, -0.80295691,  1.9735359 ,  0.75560519,\n",
              "         0.08102978,  0.34761743, -0.08886183,  0.96355723]])"
            ]
          },
          "metadata": {},
          "execution_count": 91
        }
      ]
    },
    {
      "cell_type": "code",
      "source": [
        "max = np.max(arr_max_min)\n",
        "max"
      ],
      "metadata": {
        "id": "kgv9zUdAIkY9",
        "outputId": "1fbbf0fc-f268-4f28-ed72-43412f8b8eae",
        "colab": {
          "base_uri": "https://localhost:8080/"
        }
      },
      "id": "kgv9zUdAIkY9",
      "execution_count": 92,
      "outputs": [
        {
          "output_type": "execute_result",
          "data": {
            "text/plain": [
              "2.4734663270934676"
            ]
          },
          "metadata": {},
          "execution_count": 92
        }
      ]
    },
    {
      "cell_type": "code",
      "source": [
        "min = np.min(arr_max_min)\n",
        "min"
      ],
      "metadata": {
        "id": "K7IaeleMIl1s",
        "outputId": "d967dc48-f17c-4453-f819-90e485d1ef83",
        "colab": {
          "base_uri": "https://localhost:8080/"
        }
      },
      "id": "K7IaeleMIl1s",
      "execution_count": 93,
      "outputs": [
        {
          "output_type": "execute_result",
          "data": {
            "text/plain": [
              "-2.3226464578648294"
            ]
          },
          "metadata": {},
          "execution_count": 93
        }
      ]
    },
    {
      "cell_type": "code",
      "source": [
        "max_index = arr_max_min.argmax()\n",
        "max_index"
      ],
      "metadata": {
        "id": "fowFBBPMMvU-",
        "outputId": "40adcc07-0d64-4fc6-dfab-b7c6300e3cf5",
        "colab": {
          "base_uri": "https://localhost:8080/"
        }
      },
      "id": "fowFBBPMMvU-",
      "execution_count": 94,
      "outputs": [
        {
          "output_type": "execute_result",
          "data": {
            "text/plain": [
              "23"
            ]
          },
          "metadata": {},
          "execution_count": 94
        }
      ]
    },
    {
      "cell_type": "code",
      "source": [
        "min_index = arr_max_min.argmin()\n",
        "min_index"
      ],
      "metadata": {
        "id": "8JDIjXYLNEIQ",
        "outputId": "54c8c4a7-9589-4fe2-f04c-041de14c2ac4",
        "colab": {
          "base_uri": "https://localhost:8080/"
        }
      },
      "id": "8JDIjXYLNEIQ",
      "execution_count": 95,
      "outputs": [
        {
          "output_type": "execute_result",
          "data": {
            "text/plain": [
              "44"
            ]
          },
          "metadata": {},
          "execution_count": 95
        }
      ]
    },
    {
      "cell_type": "markdown",
      "id": "3fa2e461",
      "metadata": {
        "id": "3fa2e461"
      },
      "source": [
        "#### 13. Quyidagi misol qanday natija beradi?\n",
        "\n",
        "\n",
        "```python\n",
        "0 * np.nan\n",
        "np.nan == np.nan\n",
        "np.inf > np.nan\n",
        "np.nan - np.nan\n",
        "np.nan in set([np.nan])\n",
        "0.7 == 7 * 0.1\n",
        "```\n"
      ]
    },
    {
      "cell_type": "markdown",
      "source": [
        "`💡Ishora` NaN = not a number, inf = infinity"
      ],
      "metadata": {
        "id": "c0048e59"
      },
      "id": "c0048e59"
    },
    {
      "cell_type": "code",
      "source": [
        "0 * np.nan\n",
        "np.nan == np.nan\n",
        "np.inf > np.nan\n",
        "np.nan - np.nan\n",
        "np.nan in set([np.nan])\n",
        "0.7 == 7 * 0.1"
      ],
      "metadata": {
        "id": "Thbqd_RCLf_e",
        "outputId": "7beaad63-3bd0-430e-e26f-8eff8caf8258",
        "colab": {
          "base_uri": "https://localhost:8080/"
        }
      },
      "id": "Thbqd_RCLf_e",
      "execution_count": 96,
      "outputs": [
        {
          "output_type": "execute_result",
          "data": {
            "text/plain": [
              "False"
            ]
          },
          "metadata": {},
          "execution_count": 96
        }
      ]
    },
    {
      "cell_type": "markdown",
      "id": "73f7a549",
      "metadata": {
        "id": "73f7a549"
      },
      "source": [
        "#### 14. O'lchamlari 6x3 va 3x4 bo'lgan martitsa yarating, so'ng ularning  ko'paytmasini hisoblang.\n",
        "\n"
      ]
    },
    {
      "cell_type": "markdown",
      "source": [
        "`💡Ishora` np.dot` or `np.ones"
      ],
      "metadata": {
        "id": "351ff928"
      },
      "id": "351ff928"
    },
    {
      "cell_type": "code",
      "source": [
        "arr1_mult = np.ones(18).reshape((6,3))\n",
        "arr2_mult = np.ones(12).reshape((3,4))\n",
        "res = np.dot(arr1_mult,arr2_mult)\n",
        "res"
      ],
      "metadata": {
        "id": "e_5QUFcPLtVX",
        "outputId": "103b2d5e-b81e-4195-e945-dd83246ba5b9",
        "colab": {
          "base_uri": "https://localhost:8080/"
        }
      },
      "id": "e_5QUFcPLtVX",
      "execution_count": 97,
      "outputs": [
        {
          "output_type": "execute_result",
          "data": {
            "text/plain": [
              "array([[3., 3., 3., 3.],\n",
              "       [3., 3., 3., 3.],\n",
              "       [3., 3., 3., 3.],\n",
              "       [3., 3., 3., 3.],\n",
              "       [3., 3., 3., 3.],\n",
              "       [3., 3., 3., 3.]])"
            ]
          },
          "metadata": {},
          "execution_count": 97
        }
      ]
    },
    {
      "cell_type": "markdown",
      "id": "6d0c506f",
      "metadata": {
        "id": "6d0c506f"
      },
      "source": [
        "#### 15. Quyidagi misol qanday natija beradi?\n",
        "\n",
        "```python\n",
        "print(sum(range(5),-1))\n",
        "from numpy import *\n",
        "print(sum(range(5),-1))\n",
        "```"
      ]
    },
    {
      "cell_type": "code",
      "execution_count": 98,
      "id": "c1cc1143",
      "metadata": {
        "id": "c1cc1143",
        "outputId": "fb8f818f-d3c1-41d4-a8ac-36a873446f05",
        "colab": {
          "base_uri": "https://localhost:8080/"
        }
      },
      "outputs": [
        {
          "output_type": "stream",
          "name": "stdout",
          "text": [
            "10\n",
            "10\n"
          ]
        }
      ],
      "source": [
        "print(sum(range(5),-1))\n",
        "from numpy import *\n",
        "print(sum(range(5),-1))"
      ]
    },
    {
      "cell_type": "markdown",
      "id": "d6ad1a9f",
      "metadata": {
        "id": "d6ad1a9f"
      },
      "source": [
        "#### 16. NumPy kutubxonasi yordamida ikkita massivni solishtiring va ular usida quyidagi amallarni bajaring.\n",
        "\n",
        "```python\n",
        "Array a: [1 2]\n",
        "Array b: [4 5]\n",
        "a > b\n",
        "[False False]\n",
        "a >= b\n",
        "[False False]\n",
        "a < b\n",
        "[ True True]\n",
        "a <= b\n",
        "[ True True]\n",
        "```"
      ]
    },
    {
      "cell_type": "code",
      "execution_count": 101,
      "id": "7ba3c441",
      "metadata": {
        "id": "7ba3c441",
        "outputId": "8b2888b6-d3c3-4532-d2df-724b52b3ac22",
        "colab": {
          "base_uri": "https://localhost:8080/"
        }
      },
      "outputs": [
        {
          "output_type": "execute_result",
          "data": {
            "text/plain": [
              "array([False, False])"
            ]
          },
          "metadata": {},
          "execution_count": 101
        }
      ],
      "source": [
        "arr1 = np.array([1,2])\n",
        "arr2 = np.array([4,5])\n",
        "res1 = arr1 > arr2\n",
        "res1"
      ]
    },
    {
      "cell_type": "markdown",
      "id": "e3a7ba7f",
      "metadata": {
        "id": "e3a7ba7f"
      },
      "source": [
        "#### 17. Quyidagi misol qanday natija beradi?\n",
        "\n",
        "```python\n",
        "np.array(0) / np.array(0)\n",
        "np.array(0) // np.array(0)\n",
        "np.array([np.nan]).astype(int).astype(float)\n",
        "```"
      ]
    },
    {
      "cell_type": "code",
      "execution_count": 102,
      "id": "b874734e",
      "metadata": {
        "id": "b874734e",
        "outputId": "c02a01b9-f9c5-40f4-99d8-c2641a1a5856",
        "colab": {
          "base_uri": "https://localhost:8080/"
        }
      },
      "outputs": [
        {
          "output_type": "stream",
          "name": "stderr",
          "text": [
            "<ipython-input-102-cd809174da5d>:1: RuntimeWarning: invalid value encountered in divide\n",
            "  np.array(0) / np.array(0)\n",
            "<ipython-input-102-cd809174da5d>:2: RuntimeWarning: divide by zero encountered in floor_divide\n",
            "  np.array(0) // np.array(0)\n",
            "<ipython-input-102-cd809174da5d>:3: RuntimeWarning: invalid value encountered in cast\n",
            "  np.array([np.nan]).astype(int).astype(float)\n"
          ]
        },
        {
          "output_type": "execute_result",
          "data": {
            "text/plain": [
              "array([-9.22337204e+18])"
            ]
          },
          "metadata": {},
          "execution_count": 102
        }
      ],
      "source": [
        "np.array(0) / np.array(0)\n",
        "np.array(0) // np.array(0)\n",
        "np.array([np.nan]).astype(int).astype(float)"
      ]
    },
    {
      "cell_type": "markdown",
      "id": "6d17ab5d",
      "metadata": {
        "id": "6d17ab5d"
      },
      "source": [
        "#### 18. Ikkita massiv yarating va ular orasidagi umumiy qiymatlarni toping\n"
      ]
    },
    {
      "cell_type": "markdown",
      "source": [
        "`💡Ishora` np.intersect1d"
      ],
      "metadata": {
        "id": "4c4e2c5e"
      },
      "id": "4c4e2c5e"
    },
    {
      "cell_type": "code",
      "source": [
        "arr1 = np.arange(1,10,1)\n",
        "arr2 = np.arange(5,20,2)\n",
        "arr2\n"
      ],
      "metadata": {
        "id": "Dxz5P8WpMeAP",
        "outputId": "eada7ee8-9347-4390-91f3-3e7cdc91c044",
        "colab": {
          "base_uri": "https://localhost:8080/"
        }
      },
      "id": "Dxz5P8WpMeAP",
      "execution_count": 107,
      "outputs": [
        {
          "output_type": "execute_result",
          "data": {
            "text/plain": [
              "array([ 5,  7,  9, 11, 13, 15, 17, 19])"
            ]
          },
          "metadata": {},
          "execution_count": 107
        }
      ]
    },
    {
      "cell_type": "code",
      "source": [
        "res = np.intersect1d(arr1, arr2)\n",
        "res"
      ],
      "metadata": {
        "id": "0X7OSYGkWFPm",
        "outputId": "2a1bf8df-5fdd-4f6c-85c4-62e46a13ff0d",
        "colab": {
          "base_uri": "https://localhost:8080/"
        }
      },
      "id": "0X7OSYGkWFPm",
      "execution_count": 108,
      "outputs": [
        {
          "output_type": "execute_result",
          "data": {
            "text/plain": [
              "array([5, 7, 9])"
            ]
          },
          "metadata": {},
          "execution_count": 108
        }
      ]
    },
    {
      "cell_type": "markdown",
      "id": "8837119b",
      "metadata": {
        "id": "8837119b"
      },
      "source": [
        "#### 19. Tasodifiy sonlardan iborat bo'lgan massiv yarating, so'ng ularni quyida berilgan 4 xil usul yordamida musbat sonlarning butun qismini ajratib oling."
      ]
    },
    {
      "cell_type": "markdown",
      "source": [
        "`💡Ishora` %, np.floor, astype, np.trunc"
      ],
      "metadata": {
        "id": "2b05c544"
      },
      "id": "2b05c544"
    },
    {
      "cell_type": "code",
      "source": [
        "arr_ran5 = np.random.randn(5)\n",
        "arr_ran5"
      ],
      "metadata": {
        "id": "jc6wN5WWMpS3",
        "outputId": "84cc5156-982c-4d20-9f38-e40dbac6b8f8",
        "colab": {
          "base_uri": "https://localhost:8080/"
        }
      },
      "id": "jc6wN5WWMpS3",
      "execution_count": 126,
      "outputs": [
        {
          "output_type": "execute_result",
          "data": {
            "text/plain": [
              "array([ 0.25403671, -0.01730513, -1.49574648,  1.64589808,  0.43330507])"
            ]
          },
          "metadata": {},
          "execution_count": 126
        }
      ]
    },
    {
      "cell_type": "code",
      "source": [
        "mask = arr_ran5 > 0"
      ],
      "metadata": {
        "id": "RU4oGX0vWXdP"
      },
      "id": "RU4oGX0vWXdP",
      "execution_count": 128,
      "outputs": []
    },
    {
      "cell_type": "code",
      "source": [
        "our_pos_arr_ran5 = arr_ran5[mask]\n",
        "our_pos_arr_ran5"
      ],
      "metadata": {
        "id": "gy9SQlpabOSU",
        "outputId": "5c15624b-f058-44b7-a2ab-df165ef414f0",
        "colab": {
          "base_uri": "https://localhost:8080/"
        }
      },
      "id": "gy9SQlpabOSU",
      "execution_count": 130,
      "outputs": [
        {
          "output_type": "execute_result",
          "data": {
            "text/plain": [
              "array([0.25403671, 1.64589808, 0.43330507])"
            ]
          },
          "metadata": {},
          "execution_count": 130
        }
      ]
    },
    {
      "cell_type": "code",
      "source": [
        "first_way = our_pos_arr_ran5.astype('int64')\n",
        "first_way"
      ],
      "metadata": {
        "id": "XKLkVcmhba1x",
        "outputId": "282137fe-e3cb-43a9-c289-d269cc7a462c",
        "colab": {
          "base_uri": "https://localhost:8080/"
        }
      },
      "id": "XKLkVcmhba1x",
      "execution_count": 133,
      "outputs": [
        {
          "output_type": "execute_result",
          "data": {
            "text/plain": [
              "array([0, 1, 0])"
            ]
          },
          "metadata": {},
          "execution_count": 133
        }
      ]
    },
    {
      "cell_type": "code",
      "source": [
        "second_way = np.floor(our_pos_arr_ran5)\n",
        "second_way"
      ],
      "metadata": {
        "id": "gIUlR0ERcSGK",
        "outputId": "e2858535-a15b-4b27-8471-ee578f867db4",
        "colab": {
          "base_uri": "https://localhost:8080/"
        }
      },
      "id": "gIUlR0ERcSGK",
      "execution_count": 135,
      "outputs": [
        {
          "output_type": "execute_result",
          "data": {
            "text/plain": [
              "array([0., 1., 0.])"
            ]
          },
          "metadata": {},
          "execution_count": 135
        }
      ]
    },
    {
      "cell_type": "code",
      "source": [
        "third_way = np.trunc(our_pos_arr_ran5)\n",
        "third_way"
      ],
      "metadata": {
        "id": "zyN66cqHcXGT",
        "outputId": "b8cf2b32-e2b5-49ff-f4f5-1277cbe4efd8",
        "colab": {
          "base_uri": "https://localhost:8080/"
        }
      },
      "id": "zyN66cqHcXGT",
      "execution_count": 136,
      "outputs": [
        {
          "output_type": "execute_result",
          "data": {
            "text/plain": [
              "array([0., 1., 0.])"
            ]
          },
          "metadata": {},
          "execution_count": 136
        }
      ]
    },
    {
      "cell_type": "markdown",
      "id": "ec788c9f",
      "metadata": {
        "id": "ec788c9f"
      },
      "source": [
        "#### 20. O'lchovlari 3x3 matritsa yarating, ularning qator qiymatlari 0 dan 2 gacha bo'lsin.\n",
        "\n"
      ]
    },
    {
      "cell_type": "markdown",
      "source": [
        "`💡Ishora` np.arange"
      ],
      "metadata": {
        "id": "c3980b2c"
      },
      "id": "c3980b2c"
    },
    {
      "cell_type": "code",
      "source": [
        "arr_3x3 = np.arange(0,3,1)\n",
        "big_arr = np.stack((arr_3x3,arr_3x3,arr_3x3), axis = 0)\n",
        "big_arr"
      ],
      "metadata": {
        "id": "ycz3jw4bM0Xk",
        "outputId": "37a0dfd3-d241-494c-a72c-679c5e9ee09b",
        "colab": {
          "base_uri": "https://localhost:8080/"
        }
      },
      "id": "ycz3jw4bM0Xk",
      "execution_count": 145,
      "outputs": [
        {
          "output_type": "execute_result",
          "data": {
            "text/plain": [
              "array([[0, 1, 2],\n",
              "       [0, 1, 2],\n",
              "       [0, 1, 2]])"
            ]
          },
          "metadata": {},
          "execution_count": 145
        }
      ]
    },
    {
      "cell_type": "markdown",
      "id": "391791e0",
      "metadata": {
        "id": "391791e0"
      },
      "source": [
        "#### 21. O'chamlari 10 bo'lgan tasodifiy vektor yarating va uni o'sish tartibida chiqaruvchi dastur tuzing.\n",
        "\n"
      ]
    },
    {
      "cell_type": "markdown",
      "source": [
        "`💡Ishora` sort"
      ],
      "metadata": {
        "id": "ada71c06"
      },
      "id": "ada71c06"
    },
    {
      "cell_type": "code",
      "source": [
        "arr = np.random.randn(10)\n",
        "arr"
      ],
      "metadata": {
        "id": "TPMqaavROM7g",
        "outputId": "a628e4b3-afdd-4cc0-fdad-c46f179d178e",
        "colab": {
          "base_uri": "https://localhost:8080/"
        }
      },
      "id": "TPMqaavROM7g",
      "execution_count": 148,
      "outputs": [
        {
          "output_type": "execute_result",
          "data": {
            "text/plain": [
              "array([-0.19200383,  0.0987025 , -0.87773489,  0.48394924, -0.35439645,\n",
              "       -2.8175194 ,  0.48880679,  0.86366172,  0.58089659,  0.55294318])"
            ]
          },
          "metadata": {},
          "execution_count": 148
        }
      ]
    },
    {
      "cell_type": "code",
      "source": [
        "res = np.sort(arr)\n",
        "res"
      ],
      "metadata": {
        "id": "tvrQJs9Ze19K",
        "outputId": "dea8eeb7-a33b-49f0-91f4-a62b9e8aeb3d",
        "colab": {
          "base_uri": "https://localhost:8080/"
        }
      },
      "id": "tvrQJs9Ze19K",
      "execution_count": 149,
      "outputs": [
        {
          "output_type": "execute_result",
          "data": {
            "text/plain": [
              "array([-2.8175194 , -0.87773489, -0.35439645, -0.19200383,  0.0987025 ,\n",
              "        0.48394924,  0.48880679,  0.55294318,  0.58089659,  0.86366172])"
            ]
          },
          "metadata": {},
          "execution_count": 149
        }
      ]
    },
    {
      "cell_type": "markdown",
      "id": "1e74d39e",
      "metadata": {
        "id": "1e74d39e"
      },
      "source": [
        "#### 22. Ikki tasodifiy A va B massiv yarating, ularning tengligini tekshiring"
      ]
    },
    {
      "cell_type": "markdown",
      "source": [
        "`💡Ishora` np.allclose, np.array_equal"
      ],
      "metadata": {
        "id": "eb0e066c"
      },
      "id": "eb0e066c"
    },
    {
      "cell_type": "code",
      "source": [
        "arr1 = np.random.randn(3)\n",
        "arr2 = np.random.randn(3)\n",
        "\n",
        "res1 = np.allclose(arr1, arr2)\n",
        "res1"
      ],
      "metadata": {
        "id": "xHNWNZnwOT1r",
        "outputId": "02b9fce5-14ea-4782-e3da-33237176c1e8",
        "colab": {
          "base_uri": "https://localhost:8080/"
        }
      },
      "id": "xHNWNZnwOT1r",
      "execution_count": 150,
      "outputs": [
        {
          "output_type": "execute_result",
          "data": {
            "text/plain": [
              "False"
            ]
          },
          "metadata": {},
          "execution_count": 150
        }
      ]
    },
    {
      "cell_type": "code",
      "source": [
        "res2 = np.array_equal(arr1, arr2)\n",
        "res2"
      ],
      "metadata": {
        "id": "ZpGIW_G4fJ-9",
        "outputId": "25f22714-ecc8-4cf3-a9fc-c4091ca1704f",
        "colab": {
          "base_uri": "https://localhost:8080/"
        }
      },
      "id": "ZpGIW_G4fJ-9",
      "execution_count": 151,
      "outputs": [
        {
          "output_type": "execute_result",
          "data": {
            "text/plain": [
              "False"
            ]
          },
          "metadata": {},
          "execution_count": 151
        }
      ]
    },
    {
      "cell_type": "markdown",
      "id": "78250c14",
      "metadata": {
        "id": "78250c14"
      },
      "source": [
        "#### 23. O'lchamlari 6x3 va 3x4 matritsa tuzing va ularni o'zaro ko'paytiring.\n"
      ]
    },
    {
      "cell_type": "markdown",
      "source": [
        "`💡Ishora` np.dot or np.ones"
      ],
      "metadata": {
        "id": "2e482afe"
      },
      "id": "2e482afe"
    },
    {
      "cell_type": "code",
      "source": [
        "arr1_mult = np.ones(18).reshape((6,3))\n",
        "arr2_mult = np.ones(12).reshape((3,4))\n",
        "res = np.dot(arr1_mult,arr2_mult)\n",
        "res"
      ],
      "metadata": {
        "id": "ZRlMgdT9POgS",
        "outputId": "f7156abd-376a-4d96-fd49-6b2d5bc53dd6",
        "colab": {
          "base_uri": "https://localhost:8080/"
        }
      },
      "id": "ZRlMgdT9POgS",
      "execution_count": 152,
      "outputs": [
        {
          "output_type": "execute_result",
          "data": {
            "text/plain": [
              "array([[3., 3., 3., 3.],\n",
              "       [3., 3., 3., 3.],\n",
              "       [3., 3., 3., 3.],\n",
              "       [3., 3., 3., 3.],\n",
              "       [3., 3., 3., 3.],\n",
              "       [3., 3., 3., 3.]])"
            ]
          },
          "metadata": {},
          "execution_count": 152
        }
      ]
    },
    {
      "cell_type": "markdown",
      "id": "51898680",
      "metadata": {
        "id": "51898680"
      },
      "source": [
        "#### 24. Tasodifiy sonlardan iborat bo'lgan o'lchami 5 ga teng vektor yarating, so'ng uning eng katta qiymatini 0 ga o'zgartiring.\n"
      ]
    },
    {
      "cell_type": "markdown",
      "source": [
        "`💡Ishora` argmax"
      ],
      "metadata": {
        "id": "ee92ccaf"
      },
      "id": "ee92ccaf"
    },
    {
      "cell_type": "code",
      "source": [
        "arr = np.random.randn(5)\n",
        "arr"
      ],
      "metadata": {
        "id": "v9DvyaTNPk_t",
        "outputId": "1b222dd7-d87a-4419-b3b1-3e2b338fbf01",
        "colab": {
          "base_uri": "https://localhost:8080/"
        }
      },
      "id": "v9DvyaTNPk_t",
      "execution_count": 153,
      "outputs": [
        {
          "output_type": "execute_result",
          "data": {
            "text/plain": [
              "array([-1.41616188,  1.25621566,  0.10715193,  0.32800984, -0.32979553])"
            ]
          },
          "metadata": {},
          "execution_count": 153
        }
      ]
    },
    {
      "cell_type": "code",
      "source": [
        "arr[np.argmax(arr)] = 0\n",
        "arr\n"
      ],
      "metadata": {
        "id": "4cyHLXj-fgh-",
        "outputId": "abd87e21-90ee-4b2f-93d3-28dad54a6d20",
        "colab": {
          "base_uri": "https://localhost:8080/"
        }
      },
      "id": "4cyHLXj-fgh-",
      "execution_count": 157,
      "outputs": [
        {
          "output_type": "execute_result",
          "data": {
            "text/plain": [
              "array([-1.41616188,  0.        ,  0.10715193,  0.32800984, -0.32979553])"
            ]
          },
          "metadata": {},
          "execution_count": 157
        }
      ]
    },
    {
      "cell_type": "markdown",
      "id": "129c342d",
      "metadata": {
        "id": "129c342d"
      },
      "source": [
        "#### 25. NumPy kutubxonasi yordamida kecha, bugun va ertangi kun sanalarini aniqlang.\n"
      ]
    },
    {
      "cell_type": "markdown",
      "source": [
        "`💡Ishora` np.datetime64, np.timedelta64"
      ],
      "metadata": {
        "id": "0fd2f947"
      },
      "id": "0fd2f947"
    },
    {
      "cell_type": "code",
      "source": [
        "import datetime as dt\n",
        "now = dt.datetime.now()\n",
        "now_np = np.datetime64(now)\n",
        "now_np"
      ],
      "metadata": {
        "id": "dlljRGxkSitd",
        "outputId": "e3cb6c10-7712-4a94-ca87-0667baa29689",
        "colab": {
          "base_uri": "https://localhost:8080/"
        }
      },
      "id": "dlljRGxkSitd",
      "execution_count": 169,
      "outputs": [
        {
          "output_type": "execute_result",
          "data": {
            "text/plain": [
              "numpy.datetime64('2024-07-01T04:18:40.821586')"
            ]
          },
          "metadata": {},
          "execution_count": 169
        }
      ]
    },
    {
      "cell_type": "code",
      "source": [
        "yesterday = now - dt.timedelta(days = 1)\n",
        "yesterday"
      ],
      "metadata": {
        "id": "SG0xIua2hf24",
        "outputId": "de0608ce-b877-4f88-a09c-5e07b4dfa5c1",
        "colab": {
          "base_uri": "https://localhost:8080/"
        }
      },
      "id": "SG0xIua2hf24",
      "execution_count": 171,
      "outputs": [
        {
          "output_type": "execute_result",
          "data": {
            "text/plain": [
              "datetime.datetime(2024, 6, 30, 4, 18, 40, 821586)"
            ]
          },
          "metadata": {},
          "execution_count": 171
        }
      ]
    },
    {
      "cell_type": "code",
      "source": [
        "tomorrow = now + dt.timedelta(days = 1)\n",
        "tomorrow"
      ],
      "metadata": {
        "id": "gmjcexLKh2VL",
        "outputId": "7ede71aa-55ec-4ce4-c635-4c758221a34f",
        "colab": {
          "base_uri": "https://localhost:8080/"
        }
      },
      "id": "gmjcexLKh2VL",
      "execution_count": 172,
      "outputs": [
        {
          "output_type": "execute_result",
          "data": {
            "text/plain": [
              "datetime.datetime(2024, 7, 2, 4, 18, 40, 821586)"
            ]
          },
          "metadata": {},
          "execution_count": 172
        }
      ]
    },
    {
      "cell_type": "markdown",
      "id": "42f8b2f9",
      "metadata": {
        "id": "42f8b2f9"
      },
      "source": [
        "#### 26. 2016 yil yanvar oyiga to'g'ri keladigan barcha sanalarni NumPy kutubxonasi yordamida aniqlang.\n"
      ]
    },
    {
      "cell_type": "markdown",
      "source": [
        "`💡Ishora` np.arange(dtype=datetime64['D'])"
      ],
      "metadata": {
        "id": "SU1BWcA8Sw2M"
      },
      "id": "SU1BWcA8Sw2M"
    },
    {
      "cell_type": "code",
      "execution_count": 205,
      "id": "5ad086b0",
      "metadata": {
        "id": "5ad086b0",
        "outputId": "15135fb2-d61a-49f0-f6a8-01665c25b5f0",
        "colab": {
          "base_uri": "https://localhost:8080/"
        }
      },
      "outputs": [
        {
          "output_type": "stream",
          "name": "stdout",
          "text": [
            "Array of previous dates: ['2016-01-01' '2016-01-02' '2016-01-03' '2016-01-04' '2016-01-05'\n",
            " '2016-01-06' '2016-01-07' '2016-01-08' '2016-01-09' '2016-01-10'\n",
            " '2016-01-11' '2016-01-12' '2016-01-13' '2016-01-14' '2016-01-15'\n",
            " '2016-01-16' '2016-01-17' '2016-01-18' '2016-01-19' '2016-01-20'\n",
            " '2016-01-21' '2016-01-22' '2016-01-23' '2016-01-24' '2016-01-25'\n",
            " '2016-01-26' '2016-01-27' '2016-01-28' '2016-01-29' '2016-01-30']\n"
          ]
        }
      ],
      "source": [
        "import numpy as np\n",
        "\n",
        "# Get the current date\n",
        "current_date = np.datetime64('today', 'D')\n",
        "\n",
        "# Generate an array of dates from 30 days ago to today\n",
        "# np.arange() will generate dates from start to end (not inclusive of end)\n",
        "num_days = 30\n",
        "num_years = 365\n",
        "date_array = np.arange(current_date - (np.timedelta64(num_years, 'D')*8 + np.timedelta64(num_days, 'D')*6 + 4),\n",
        "                       current_date - (np.timedelta64(num_years, 'D')*8 + np.timedelta64(num_days, 'D')*5+4),\n",
        "                       dtype='datetime64[D]')\n",
        "\n",
        "print(\"Array of previous dates:\", date_array)"
      ]
    },
    {
      "cell_type": "markdown",
      "id": "486df8ea",
      "metadata": {
        "id": "486df8ea"
      },
      "source": [
        "#### 27. 4 xil usul yordamida musbat sonlarning tasodifiy massivining butun son qismini ajratib oling.\n"
      ]
    },
    {
      "cell_type": "markdown",
      "source": [
        "`💡Ishora` %, np.floor, astype, np.trunc`"
      ],
      "metadata": {
        "id": "h4QM3bp9TDhb"
      },
      "id": "h4QM3bp9TDhb"
    },
    {
      "cell_type": "code",
      "execution_count": 98,
      "id": "2680c1ca",
      "metadata": {
        "id": "2680c1ca"
      },
      "outputs": [],
      "source": [
        "#Done"
      ]
    },
    {
      "cell_type": "markdown",
      "id": "6415f02e",
      "metadata": {
        "id": "6415f02e"
      },
      "source": [
        "#### 28. Ixtiyoriy kichik massivlar yarating, ular yeg'indisini np.sum funksiyasidanda tezroq hisoblovchi dastur tuzing.\n"
      ]
    },
    {
      "cell_type": "markdown",
      "source": [
        "`💡Ishora` np.add.reduce"
      ],
      "metadata": {
        "id": "129e785f"
      },
      "id": "129e785f"
    },
    {
      "cell_type": "code",
      "source": [
        "arr1 = np.arange(0,5,1)\n",
        "arr2 = np.arange(5,10,1)\n",
        "\n",
        "%time np.sum(arr1)"
      ],
      "metadata": {
        "id": "M0Xv2bB9VYQZ",
        "outputId": "8d0c7775-5880-4c7a-ce06-c51e51633c90",
        "colab": {
          "base_uri": "https://localhost:8080/"
        }
      },
      "id": "M0Xv2bB9VYQZ",
      "execution_count": 212,
      "outputs": [
        {
          "output_type": "stream",
          "name": "stdout",
          "text": [
            "CPU times: user 75 µs, sys: 0 ns, total: 75 µs\n",
            "Wall time: 79.6 µs\n"
          ]
        },
        {
          "output_type": "execute_result",
          "data": {
            "text/plain": [
              "10"
            ]
          },
          "metadata": {},
          "execution_count": 212
        }
      ]
    },
    {
      "cell_type": "code",
      "source": [
        "%time np.add.reduce(arr1)"
      ],
      "metadata": {
        "id": "Efl1qDABqWuw",
        "outputId": "b28d1a7d-52bc-4f29-d863-9d8bbb4b822d",
        "colab": {
          "base_uri": "https://localhost:8080/"
        }
      },
      "id": "Efl1qDABqWuw",
      "execution_count": 213,
      "outputs": [
        {
          "output_type": "stream",
          "name": "stdout",
          "text": [
            "CPU times: user 48 µs, sys: 4 µs, total: 52 µs\n",
            "Wall time: 56 µs\n"
          ]
        },
        {
          "output_type": "execute_result",
          "data": {
            "text/plain": [
              "10"
            ]
          },
          "metadata": {},
          "execution_count": 213
        }
      ]
    },
    {
      "cell_type": "markdown",
      "id": "58be9dd4",
      "metadata": {
        "id": "58be9dd4"
      },
      "source": [
        "#### 29. [1, 2, 3, 4, 5] vektor berilgan, har bir qiymat orasiga ketma-ket 3 ta nol raqamini yozuvchi dastur tuzing.\n"
      ]
    },
    {
      "cell_type": "markdown",
      "source": [
        "`💡Ishora` array[::4]"
      ],
      "metadata": {
        "id": "9cf9e134"
      },
      "id": "9cf9e134"
    },
    {
      "cell_type": "code",
      "source": [
        "arr_org = np.arange(1,6,1)\n",
        "arr_org"
      ],
      "metadata": {
        "id": "04IuJ2jaZeYu",
        "outputId": "f83f0c65-cd59-4b6b-818e-03dc8e94e0dd",
        "colab": {
          "base_uri": "https://localhost:8080/"
        }
      },
      "id": "04IuJ2jaZeYu",
      "execution_count": 219,
      "outputs": [
        {
          "output_type": "execute_result",
          "data": {
            "text/plain": [
              "array([1, 2, 3, 4, 5])"
            ]
          },
          "metadata": {},
          "execution_count": 219
        }
      ]
    },
    {
      "cell_type": "code",
      "source": [
        "num_zeros = 3\n",
        "\n",
        "zeros = np.zeros(len(arr_org)*(num_zeros+1)-num_zeros,dtype=int)\n",
        "zeros[::num_zeros+1] = arr_org\n",
        "zeros"
      ],
      "metadata": {
        "id": "aIgFjy0Pqm6M",
        "outputId": "27cd5930-a1d7-434e-e123-5029844631da",
        "colab": {
          "base_uri": "https://localhost:8080/"
        }
      },
      "id": "aIgFjy0Pqm6M",
      "execution_count": 225,
      "outputs": [
        {
          "output_type": "execute_result",
          "data": {
            "text/plain": [
              "array([1, 0, 0, 0, 2, 0, 0, 0, 3, 0, 0, 0, 4, 0, 0, 0, 5])"
            ]
          },
          "metadata": {},
          "execution_count": 225
        }
      ]
    },
    {
      "cell_type": "markdown",
      "id": "781fa236",
      "metadata": {
        "id": "781fa236"
      },
      "source": [
        "#### 30. Quyidagi a massiv berilgan, a = [1,2,3,4,5,6,7,8,9,10,11,12,13,14] undan foydalangan holda siz quyidagi b massivni yarata olasizmi, b = [[1,2,3,4], [2,3,4,5], [3,4,5,6], ..., [11,12,13,14]]?\n"
      ]
    },
    {
      "cell_type": "markdown",
      "source": [
        "`💡Ishora` stride_tricks.as_strided"
      ],
      "metadata": {
        "id": "82e3d17e"
      },
      "id": "82e3d17e"
    },
    {
      "cell_type": "code",
      "source": [
        "a = np.array([1,2,3,4,5,6,7,8,9,10,11,12,13,14])\n",
        "b = np.array([])\n",
        "for i in range(len(a)-2) :\n",
        "  temp = np.arange(i,i+4,1)\n",
        "\n",
        "\n",
        "\n"
      ],
      "metadata": {
        "id": "S1H6ivCua3NZ"
      },
      "id": "S1H6ivCua3NZ",
      "execution_count": 248,
      "outputs": []
    },
    {
      "cell_type": "markdown",
      "id": "7d8dc135",
      "metadata": {
        "id": "7d8dc135"
      },
      "source": [
        "#### 31. Ixtiyoriy sonlardan tashkil topgan massiv yarating, unga o'xshash qiymatlar kiriting. So'ng, o'xshash qiymatlarni topuvchi dastur tuzing.\n"
      ]
    },
    {
      "cell_type": "markdown",
      "source": [
        "`💡Ishora` np.bincount, argmax"
      ],
      "metadata": {
        "id": "81844e99"
      },
      "id": "81844e99"
    },
    {
      "cell_type": "code",
      "source": [
        "arr = np.array([1,2,3,5,6,8,9,1,44,3,5,9,44])\n",
        "arr_sorted = np.sort(arr)\n",
        "arr_sorted\n",
        "\n",
        "res = []\n",
        "\n",
        "for i in range(len(arr_sorted)-1):\n",
        "  if arr_sorted[i] == arr_sorted[i+1]:\n",
        "    res.append(arr_sorted[i+1])\n",
        "res\n",
        "\n",
        "\n"
      ],
      "metadata": {
        "id": "Ae6syQdE9uL-",
        "outputId": "aae0909f-89fb-42c2-b2b4-9f2ca71b57e0",
        "colab": {
          "base_uri": "https://localhost:8080/"
        }
      },
      "id": "Ae6syQdE9uL-",
      "execution_count": 247,
      "outputs": [
        {
          "output_type": "execute_result",
          "data": {
            "text/plain": [
              "[1, 3, 5, 9, 44]"
            ]
          },
          "metadata": {},
          "execution_count": 247
        }
      ]
    },
    {
      "cell_type": "markdown",
      "source": [
        "#### BONUS!\n",
        "\n",
        "`💡O'zingiz javob berishni istagan savolni kiriting va unga javob bering!`"
      ],
      "metadata": {
        "id": "URzxwwODb0m_"
      },
      "id": "URzxwwODb0m_"
    },
    {
      "cell_type": "code",
      "source": [],
      "metadata": {
        "id": "9xpR0GVrbzuk"
      },
      "id": "9xpR0GVrbzuk",
      "execution_count": 98,
      "outputs": []
    }
  ],
  "metadata": {
    "hide_input": false,
    "kernelspec": {
      "display_name": "Python 3",
      "language": "python",
      "name": "python3"
    },
    "language_info": {
      "codemirror_mode": {
        "name": "ipython",
        "version": 3
      },
      "file_extension": ".py",
      "mimetype": "text/x-python",
      "name": "python",
      "nbconvert_exporter": "python",
      "pygments_lexer": "ipython3",
      "version": "3.8.8"
    },
    "toc": {
      "base_numbering": 1,
      "nav_menu": {},
      "number_sections": true,
      "sideBar": true,
      "skip_h1_title": false,
      "title_cell": "Table of Contents",
      "title_sidebar": "Contents",
      "toc_cell": false,
      "toc_position": {},
      "toc_section_display": true,
      "toc_window_display": false
    },
    "varInspector": {
      "cols": {
        "lenName": 16,
        "lenType": 16,
        "lenVar": 40
      },
      "kernels_config": {
        "python": {
          "delete_cmd_postfix": "",
          "delete_cmd_prefix": "del ",
          "library": "var_list.py",
          "varRefreshCmd": "print(var_dic_list())"
        },
        "r": {
          "delete_cmd_postfix": ") ",
          "delete_cmd_prefix": "rm(",
          "library": "var_list.r",
          "varRefreshCmd": "cat(var_dic_list()) "
        }
      },
      "types_to_exclude": [
        "module",
        "function",
        "builtin_function_or_method",
        "instance",
        "_Feature"
      ],
      "window_display": false
    },
    "colab": {
      "provenance": []
    }
  },
  "nbformat": 4,
  "nbformat_minor": 5
}